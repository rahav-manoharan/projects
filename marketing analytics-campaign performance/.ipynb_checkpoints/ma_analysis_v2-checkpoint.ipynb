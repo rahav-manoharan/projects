{
 "cells": [
  {
   "cell_type": "markdown",
   "id": "9679eccf",
   "metadata": {
    "papermill": {
     "duration": 0.103146,
     "end_time": "2022-02-25T22:14:30.884844",
     "exception": false,
     "start_time": "2022-02-25T22:14:30.781698",
     "status": "completed"
    },
    "tags": []
   },
   "source": [
    "# 1. Exploratory Data Analysis\n",
    "\n",
    "Column descriptions:\n",
    "- `ID` - Customer's unique identification\n",
    "- `Year_Birth` - Customer's birth year\n",
    "- `Education` - Customer's education\n",
    "- `Marital_Status` - Customer's marital status\n",
    "- ` Income` - Customer's yearly household income\n",
    "- `Kidhome` - # of kids in household\n",
    "- `Teenhome` - # of teenagers in household\n",
    "- `Dt_Customer` - Date of customer's enrollment with the company\n",
    "- `Recency` - # of days since customer's last purchase\n",
    "- `MntWines` - Amount spent on wine in the last 2 years\n",
    "- `MntFruits` - Amount spent on fruit in the last 2 years\n",
    "- `MntMeatProducts` - Amount spent on meat in the last 2 years\n",
    "- `MntFishProducts` - Amount spent on fish in the last 2 years\n",
    "- `MntSweetProducts` - Amount spent on sweet products in the last 2 years\n",
    "- `MntGoldProds` - Amount spent on gold products in the last 2 years\n",
    "- `NumDealsPurchases` - # of purchases made with a discount\n",
    "- `NumWebPurchases` - # of purchases made on company website\n",
    "- `NumCatalogPurchases` - # of purchases made on the catalog\n",
    "- `NumStorePurchases` - # of purchase made in store\n",
    "- `NumWebVisitsMonth` - # of website visits in the last month\n",
    "- `AcceptedCmp1` - 1 if customer accepted the offer in the 1st campaign, 0 otherwise\n",
    "- `AcceptedCmp2` - 1 if customer accepted the offer in the 2nd campaign, 0 otherwise\n",
    "- `AcceptedCmp3` - 1 if customer accepted the offer in the 3rd campaign, 0 otherwise\n",
    "- `AcceptedCmp4` - 1 if customer accepted the offer in the 4th campaign, 0 otherwise\n",
    "- `AcceptedCmp5` - 1 if customer accepted the offer in the 5th campaign, 0 otherwise\n",
    "- `Response` - 1 if customer accepted the offer in the last campaign, 0 otherwise\n",
    "- `Complain` - 1 if customer complained within the last 2 years\n",
    "- `Country` - Country where the customer is located (not from)\n",
    "\n",
    "## Outline\n",
    "- Are there any nulls? How are you going to handle them?\n",
    "- Are there any variables that we need to transform? (Data types, text cleaning, etc.)\n",
    "- Are there any outliers?\n",
    "- Can we perform feature engineering?\n",
    "- Are there any trends within the data?\n",
    "\n",
    "### Import libraries"
   ]
  },
  {
   "cell_type": "code",
   "execution_count": null,
   "id": "6b072cf0",
   "metadata": {},
   "outputs": [],
   "source": [
    "%matplotlib inline\n",
    "\n",
    "import numpy as np # linear algebra\n",
    "import pandas as pd # data processing, CSV file I/O (e.g. pd.read_csv)\n",
    "\n",
    "pd.set_option('display.max_columns', None)\n",
    "pd.set_option('display.max_rows', None)\n",
    "\n",
    "import gc\n",
    "\n",
    "from sklearn.model_selection import train_test_split, StratifiedKFold, KFold, cross_val_score\n",
    "from sklearn.utils import class_weight\n",
    "from sklearn.metrics import classification_report, roc_auc_score, f1_score, mean_squared_error\n",
    "from sklearn.preprocessing import StandardScaler, LabelEncoder\n",
    "\n",
    "from sklearn.linear_model import LogisticRegression, LinearRegression\n",
    "\n",
    "import matplotlib.pyplot as plt\n",
    "import seaborn as sns\n",
    "# from IPython.display import display\n",
    "\n",
    "plt.rcParams[\"figure.figsize\"] = (12,8)\n",
    "plt.rcParams['axes.titlesize'] = 16\n",
    "plt.style.use('seaborn-whitegrid')\n",
    "sns.set_palette(\"Set3\")\n",
    "\n",
    "\n",
    "import os\n",
    "# for dirname, _, filenames in os.walk('/kaggle/input'):\n",
    "#     for filename in filenames:\n",
    "#         print(os.path.join(dirname, filename))\n",
    "\n",
    "# from time import time, strftime, gmtime\n",
    "# start = time()\n",
    "import datetime\n",
    "# print(str(datetime.datetime.now()))"
   ]
  },
  {
   "cell_type": "code",
   "execution_count": null,
   "id": "939c4d5d",
   "metadata": {},
   "outputs": [],
   "source": [
    "# len(data.Recency.value_counts())"
   ]
  },
  {
   "cell_type": "code",
   "execution_count": null,
   "id": "645d1bb2",
   "metadata": {
    "execution": {
     "iopub.execute_input": "2022-02-25T22:14:31.091407Z",
     "iopub.status.busy": "2022-02-25T22:14:31.085207Z",
     "iopub.status.idle": "2022-02-25T22:14:32.116477Z",
     "shell.execute_reply": "2022-02-25T22:14:32.115445Z",
     "shell.execute_reply.started": "2021-12-13T22:07:10.700162Z"
    },
    "papermill": {
     "duration": 1.132767,
     "end_time": "2022-02-25T22:14:32.116666",
     "exception": false,
     "start_time": "2022-02-25T22:14:30.983899",
     "status": "completed"
    },
    "tags": []
   },
   "outputs": [],
   "source": [
    "import pandas as pd\n",
    "import numpy as np\n",
    "import matplotlib.pyplot as plt\n",
    "import seaborn as sns\n",
    "import datetime\n",
    "from dateutil.relativedelta import relativedelta\n"
   ]
  },
  {
   "cell_type": "code",
   "execution_count": null,
   "id": "5dab8b35",
   "metadata": {
    "execution": {
     "iopub.execute_input": "2022-02-25T22:14:32.320433Z",
     "iopub.status.busy": "2022-02-25T22:14:32.319687Z",
     "iopub.status.idle": "2022-02-25T22:14:32.356545Z",
     "shell.execute_reply": "2022-02-25T22:14:32.357181Z",
     "shell.execute_reply.started": "2021-12-13T22:07:11.704628Z"
    },
    "papermill": {
     "duration": 0.140797,
     "end_time": "2022-02-25T22:14:32.357395",
     "exception": false,
     "start_time": "2022-02-25T22:14:32.216598",
     "status": "completed"
    },
    "tags": []
   },
   "outputs": [],
   "source": [
    "data = pd.read_csv('marketing_data.csv')"
   ]
  },
  {
   "cell_type": "code",
   "execution_count": null,
   "id": "267dfc26",
   "metadata": {
    "execution": {
     "iopub.execute_input": "2022-02-25T22:14:32.561670Z",
     "iopub.status.busy": "2022-02-25T22:14:32.560924Z",
     "iopub.status.idle": "2022-02-25T22:14:32.589904Z",
     "shell.execute_reply": "2022-02-25T22:14:32.590746Z",
     "shell.execute_reply.started": "2021-12-13T22:07:11.745459Z"
    },
    "papermill": {
     "duration": 0.132027,
     "end_time": "2022-02-25T22:14:32.591122",
     "exception": false,
     "start_time": "2022-02-25T22:14:32.459095",
     "status": "completed"
    },
    "tags": []
   },
   "outputs": [],
   "source": [
    "data.info()"
   ]
  },
  {
   "cell_type": "code",
   "execution_count": null,
   "id": "a7efe98d",
   "metadata": {
    "execution": {
     "iopub.execute_input": "2022-02-25T22:14:32.799484Z",
     "iopub.status.busy": "2022-02-25T22:14:32.798778Z",
     "iopub.status.idle": "2022-02-25T22:14:32.800674Z",
     "shell.execute_reply": "2022-02-25T22:14:32.801333Z",
     "shell.execute_reply.started": "2021-12-13T22:07:11.776811Z"
    },
    "papermill": {
     "duration": 0.107753,
     "end_time": "2022-02-25T22:14:32.801523",
     "exception": false,
     "start_time": "2022-02-25T22:14:32.693770",
     "status": "completed"
    },
    "tags": []
   },
   "outputs": [],
   "source": [
    "data.rename({' Income ':'Income'},axis=1,inplace=True)"
   ]
  },
  {
   "cell_type": "markdown",
   "id": "5b69cfe6",
   "metadata": {
    "papermill": {
     "duration": 0.098665,
     "end_time": "2022-02-25T22:14:32.998071",
     "exception": false,
     "start_time": "2022-02-25T22:14:32.899406",
     "status": "completed"
    },
    "tags": []
   },
   "source": [
    "### Check for nulls"
   ]
  },
  {
   "cell_type": "code",
   "execution_count": null,
   "id": "cc564a81",
   "metadata": {
    "execution": {
     "iopub.execute_input": "2022-02-25T22:14:33.198505Z",
     "iopub.status.busy": "2022-02-25T22:14:33.197842Z",
     "iopub.status.idle": "2022-02-25T22:14:33.208762Z",
     "shell.execute_reply": "2022-02-25T22:14:33.209326Z",
     "shell.execute_reply.started": "2021-12-13T22:07:11.78526Z"
    },
    "papermill": {
     "duration": 0.112483,
     "end_time": "2022-02-25T22:14:33.209534",
     "exception": false,
     "start_time": "2022-02-25T22:14:33.097051",
     "status": "completed"
    },
    "tags": []
   },
   "outputs": [],
   "source": [
    "data.isnull().sum()"
   ]
  },
  {
   "cell_type": "markdown",
   "id": "fecb1760",
   "metadata": {
    "papermill": {
     "duration": 0.100305,
     "end_time": "2022-02-25T22:14:33.410675",
     "exception": false,
     "start_time": "2022-02-25T22:14:33.310370",
     "status": "completed"
    },
    "tags": []
   },
   "source": [
    "In this case, we are going to drop the rows with the null values for numerous reasons:\n",
    "1. The total null values account for <5% of the data\n",
    "2. We want to keep the `Income` column as it is an important feature for our analysis\n",
    "3. Filling in the nulls with the median/mean/mode will not account for the variance with the other variables"
   ]
  },
  {
   "cell_type": "code",
   "execution_count": null,
   "id": "1e390380",
   "metadata": {
    "execution": {
     "iopub.execute_input": "2022-02-25T22:14:33.615938Z",
     "iopub.status.busy": "2022-02-25T22:14:33.615257Z",
     "iopub.status.idle": "2022-02-25T22:14:33.623466Z",
     "shell.execute_reply": "2022-02-25T22:14:33.624092Z",
     "shell.execute_reply.started": "2021-12-13T22:07:11.804319Z"
    },
    "papermill": {
     "duration": 0.114247,
     "end_time": "2022-02-25T22:14:33.624303",
     "exception": false,
     "start_time": "2022-02-25T22:14:33.510056",
     "status": "completed"
    },
    "tags": []
   },
   "outputs": [],
   "source": [
    "data.dropna(inplace=True)"
   ]
  },
  {
   "cell_type": "code",
   "execution_count": null,
   "id": "2b1e3d16",
   "metadata": {
    "execution": {
     "iopub.execute_input": "2022-02-25T22:14:33.830047Z",
     "iopub.status.busy": "2022-02-25T22:14:33.829361Z",
     "iopub.status.idle": "2022-02-25T22:14:33.844563Z",
     "shell.execute_reply": "2022-02-25T22:14:33.845239Z",
     "shell.execute_reply.started": "2021-12-13T22:07:11.813006Z"
    },
    "papermill": {
     "duration": 0.120267,
     "end_time": "2022-02-25T22:14:33.845438",
     "exception": false,
     "start_time": "2022-02-25T22:14:33.725171",
     "status": "completed"
    },
    "tags": []
   },
   "outputs": [],
   "source": [
    "data.info()"
   ]
  },
  {
   "cell_type": "markdown",
   "id": "ea1d19cf",
   "metadata": {
    "papermill": {
     "duration": 0.098669,
     "end_time": "2022-02-25T22:14:34.042861",
     "exception": false,
     "start_time": "2022-02-25T22:14:33.944192",
     "status": "completed"
    },
    "tags": []
   },
   "source": [
    "### Variable transformation\n",
    "\n",
    "We are going to change the following dtypes of the following columns:\n",
    "- ` Income ` to float\n",
    "- `Dt_Customer` to datetime"
   ]
  },
  {
   "cell_type": "code",
   "execution_count": null,
   "id": "fb9e9189",
   "metadata": {
    "execution": {
     "iopub.execute_input": "2022-02-25T22:14:34.243537Z",
     "iopub.status.busy": "2022-02-25T22:14:34.242874Z",
     "iopub.status.idle": "2022-02-25T22:14:34.255192Z",
     "shell.execute_reply": "2022-02-25T22:14:34.253866Z",
     "shell.execute_reply.started": "2021-12-13T22:07:11.833206Z"
    },
    "papermill": {
     "duration": 0.113854,
     "end_time": "2022-02-25T22:14:34.255435",
     "exception": false,
     "start_time": "2022-02-25T22:14:34.141581",
     "status": "completed"
    },
    "tags": []
   },
   "outputs": [],
   "source": [
    "data['Income'] = data['Income'].str.replace(\"[$,]\",\"\").astype(float) # using regex to replace '$' and ',' so that the numerical value is taken"
   ]
  },
  {
   "cell_type": "code",
   "execution_count": null,
   "id": "4a03d1c7",
   "metadata": {
    "execution": {
     "iopub.execute_input": "2022-02-25T22:14:34.465489Z",
     "iopub.status.busy": "2022-02-25T22:14:34.464575Z",
     "iopub.status.idle": "2022-02-25T22:14:34.468130Z",
     "shell.execute_reply": "2022-02-25T22:14:34.468676Z",
     "shell.execute_reply.started": "2021-12-13T22:07:11.846176Z"
    },
    "papermill": {
     "duration": 0.111423,
     "end_time": "2022-02-25T22:14:34.468861",
     "exception": false,
     "start_time": "2022-02-25T22:14:34.357438",
     "status": "completed"
    },
    "tags": []
   },
   "outputs": [],
   "source": [
    "data['Dt_Customer'].head()"
   ]
  },
  {
   "cell_type": "code",
   "execution_count": null,
   "id": "5b9d8679",
   "metadata": {
    "execution": {
     "iopub.execute_input": "2022-02-25T22:14:34.717888Z",
     "iopub.status.busy": "2022-02-25T22:14:34.681624Z",
     "iopub.status.idle": "2022-02-25T22:14:34.878595Z",
     "shell.execute_reply": "2022-02-25T22:14:34.878004Z",
     "shell.execute_reply.started": "2021-12-13T22:07:11.860839Z"
    },
    "papermill": {
     "duration": 0.310715,
     "end_time": "2022-02-25T22:14:34.878762",
     "exception": false,
     "start_time": "2022-02-25T22:14:34.568047",
     "status": "completed"
    },
    "tags": []
   },
   "outputs": [],
   "source": [
    "data['Dt_Customer'] = pd.to_datetime(data['Dt_Customer'])"
   ]
  },
  {
   "cell_type": "code",
   "execution_count": null,
   "id": "a7d59c37",
   "metadata": {
    "execution": {
     "iopub.execute_input": "2022-02-25T22:14:35.084063Z",
     "iopub.status.busy": "2022-02-25T22:14:35.083349Z",
     "iopub.status.idle": "2022-02-25T22:14:35.098020Z",
     "shell.execute_reply": "2022-02-25T22:14:35.097169Z",
     "shell.execute_reply.started": "2021-12-13T22:07:12.037676Z"
    },
    "papermill": {
     "duration": 0.119979,
     "end_time": "2022-02-25T22:14:35.098250",
     "exception": false,
     "start_time": "2022-02-25T22:14:34.978271",
     "status": "completed"
    },
    "tags": []
   },
   "outputs": [],
   "source": [
    "data.info()"
   ]
  },
  {
   "cell_type": "code",
   "execution_count": null,
   "id": "875006a3",
   "metadata": {
    "execution": {
     "iopub.execute_input": "2022-02-25T22:14:35.305630Z",
     "iopub.status.busy": "2022-02-25T22:14:35.304575Z",
     "iopub.status.idle": "2022-02-25T22:14:35.334227Z",
     "shell.execute_reply": "2022-02-25T22:14:35.334717Z",
     "shell.execute_reply.started": "2021-12-13T22:07:12.055716Z"
    },
    "papermill": {
     "duration": 0.135824,
     "end_time": "2022-02-25T22:14:35.334909",
     "exception": false,
     "start_time": "2022-02-25T22:14:35.199085",
     "status": "completed"
    },
    "tags": []
   },
   "outputs": [],
   "source": [
    "data.head()"
   ]
  },
  {
   "cell_type": "markdown",
   "id": "bcf5c223",
   "metadata": {
    "papermill": {
     "duration": 0.102873,
     "end_time": "2022-02-25T22:14:35.540006",
     "exception": false,
     "start_time": "2022-02-25T22:14:35.437133",
     "status": "completed"
    },
    "tags": []
   },
   "source": [
    "### Check for outliers"
   ]
  },
  {
   "cell_type": "code",
   "execution_count": null,
   "id": "5e32dac1",
   "metadata": {
    "execution": {
     "iopub.execute_input": "2022-02-25T22:14:35.745299Z",
     "iopub.status.busy": "2022-02-25T22:14:35.744275Z",
     "iopub.status.idle": "2022-02-25T22:14:35.750403Z",
     "shell.execute_reply": "2022-02-25T22:14:35.750886Z",
     "shell.execute_reply.started": "2021-12-13T22:07:12.085081Z"
    },
    "papermill": {
     "duration": 0.110969,
     "end_time": "2022-02-25T22:14:35.751113",
     "exception": false,
     "start_time": "2022-02-25T22:14:35.640144",
     "status": "completed"
    },
    "tags": []
   },
   "outputs": [],
   "source": [
    "data.columns"
   ]
  },
  {
   "cell_type": "code",
   "execution_count": null,
   "id": "27d8121e",
   "metadata": {
    "execution": {
     "iopub.execute_input": "2022-02-25T22:14:35.956519Z",
     "iopub.status.busy": "2022-02-25T22:14:35.955492Z",
     "iopub.status.idle": "2022-02-25T22:14:38.051405Z",
     "shell.execute_reply": "2022-02-25T22:14:38.050548Z",
     "shell.execute_reply.started": "2021-12-13T22:07:12.096597Z"
    },
    "papermill": {
     "duration": 2.199671,
     "end_time": "2022-02-25T22:14:38.051573",
     "exception": false,
     "start_time": "2022-02-25T22:14:35.851902",
     "status": "completed"
    },
    "tags": []
   },
   "outputs": [],
   "source": [
    "numeric_cols = data.select_dtypes(include=['number']).columns\n",
    "numeric_cols = numeric_cols.drop(['ID', 'AcceptedCmp3', 'AcceptedCmp4', 'AcceptedCmp5', 'AcceptedCmp1',\n",
    "                                  'AcceptedCmp2', 'Response', 'Complain']) #don't consider ordinal columns as numerical(nominal)\n",
    "data[numeric_cols].plot(subplots=True, layout=(4,4), kind='box', figsize=(18,15))\n",
    "\n",
    "plt.show()"
   ]
  },
  {
   "cell_type": "markdown",
   "id": "771eee63",
   "metadata": {
    "papermill": {
     "duration": 0.103771,
     "end_time": "2022-02-25T22:14:38.259065",
     "exception": false,
     "start_time": "2022-02-25T22:14:38.155294",
     "status": "completed"
    },
    "tags": []
   },
   "source": [
    "The columns that show unlikely outliers are `Year_Birth` and `Income` with people being born before 1900 (meaning that they would be over 100 years old, which is unlikely) and 1 person making over \\$600,000. \n",
    "\n",
    "Since we are not sure of the kind of errors they may be, we choose to remove them from our analysis since they represent only a small proportion of our sample"
   ]
  },
  {
   "cell_type": "code",
   "execution_count": null,
   "id": "efd55f13",
   "metadata": {
    "execution": {
     "iopub.execute_input": "2022-02-25T22:14:38.472561Z",
     "iopub.status.busy": "2022-02-25T22:14:38.471883Z",
     "iopub.status.idle": "2022-02-25T22:14:38.477998Z",
     "shell.execute_reply": "2022-02-25T22:14:38.478565Z",
     "shell.execute_reply.started": "2021-12-13T22:07:13.962516Z"
    },
    "papermill": {
     "duration": 0.116383,
     "end_time": "2022-02-25T22:14:38.478753",
     "exception": false,
     "start_time": "2022-02-25T22:14:38.362370",
     "status": "completed"
    },
    "tags": []
   },
   "outputs": [],
   "source": [
    "data = data.drop(data[data['Year_Birth'] <= 1900].index)\n",
    "data = data.drop(data[data['Income'] > 600000].index)"
   ]
  },
  {
   "cell_type": "markdown",
   "id": "864e242b",
   "metadata": {
    "papermill": {
     "duration": 0.104803,
     "end_time": "2022-02-25T22:14:39.579822",
     "exception": false,
     "start_time": "2022-02-25T22:14:39.475019",
     "status": "completed"
    },
    "tags": []
   },
   "source": [
    "### Variable transformation (cont.)\n",
    "\n",
    "We'll explore the `Education` and `Marital_Status` columns."
   ]
  },
  {
   "cell_type": "code",
   "execution_count": null,
   "id": "0243b564",
   "metadata": {
    "execution": {
     "iopub.execute_input": "2022-02-25T22:14:39.794744Z",
     "iopub.status.busy": "2022-02-25T22:14:39.794070Z",
     "iopub.status.idle": "2022-02-25T22:14:39.801295Z",
     "shell.execute_reply": "2022-02-25T22:14:39.801924Z",
     "shell.execute_reply.started": "2021-12-13T22:07:14.044187Z"
    },
    "papermill": {
     "duration": 0.117001,
     "end_time": "2022-02-25T22:14:39.802161",
     "exception": false,
     "start_time": "2022-02-25T22:14:39.685160",
     "status": "completed"
    },
    "tags": []
   },
   "outputs": [],
   "source": [
    "data['Education'].value_counts()"
   ]
  },
  {
   "cell_type": "markdown",
   "id": "d0742546",
   "metadata": {
    "papermill": {
     "duration": 0.105437,
     "end_time": "2022-02-25T22:14:40.012142",
     "exception": false,
     "start_time": "2022-02-25T22:14:39.906705",
     "status": "completed"
    },
    "tags": []
   },
   "source": [
    "To better understand these unique values, let's look at the ages and the income of these customers."
   ]
  },
  {
   "cell_type": "code",
   "execution_count": null,
   "id": "fe1068ef",
   "metadata": {
    "execution": {
     "iopub.execute_input": "2022-02-25T22:14:40.224508Z",
     "iopub.status.busy": "2022-02-25T22:14:40.223819Z",
     "iopub.status.idle": "2022-02-25T22:14:40.229466Z",
     "shell.execute_reply": "2022-02-25T22:14:40.228876Z",
     "shell.execute_reply.started": "2021-12-13T22:07:14.057186Z"
    },
    "papermill": {
     "duration": 0.11283,
     "end_time": "2022-02-25T22:14:40.229614",
     "exception": false,
     "start_time": "2022-02-25T22:14:40.116784",
     "status": "completed"
    },
    "tags": []
   },
   "outputs": [],
   "source": [
    "data['Age'] = datetime.datetime.now().year - data['Year_Birth']"
   ]
  },
  {
   "cell_type": "code",
   "execution_count": null,
   "id": "6a86e5ae",
   "metadata": {
    "execution": {
     "iopub.execute_input": "2022-02-25T22:14:40.443266Z",
     "iopub.status.busy": "2022-02-25T22:14:40.442577Z",
     "iopub.status.idle": "2022-02-25T22:14:41.516401Z",
     "shell.execute_reply": "2022-02-25T22:14:41.515779Z",
     "shell.execute_reply.started": "2021-12-13T22:07:14.071012Z"
    },
    "papermill": {
     "duration": 1.18286,
     "end_time": "2022-02-25T22:14:41.516569",
     "exception": false,
     "start_time": "2022-02-25T22:14:40.333709",
     "status": "completed"
    },
    "tags": []
   },
   "outputs": [],
   "source": [
    "plt.figure(figsize=(18,10))\n",
    "sns.boxplot(x='Country', y='Age', hue='Education',data=data)\n",
    "plt.title(\"Age Ranges for Each Education Level, by Country\", fontdict={'fontweight':'bold','fontsize':15})\n",
    "plt.show()"
   ]
  },
  {
   "cell_type": "code",
   "execution_count": null,
   "id": "aba2a620",
   "metadata": {
    "execution": {
     "iopub.execute_input": "2022-02-25T22:14:41.734895Z",
     "iopub.status.busy": "2022-02-25T22:14:41.732283Z",
     "iopub.status.idle": "2022-02-25T22:14:42.793036Z",
     "shell.execute_reply": "2022-02-25T22:14:42.792345Z",
     "shell.execute_reply.started": "2021-12-13T22:07:15.016165Z"
    },
    "papermill": {
     "duration": 1.169528,
     "end_time": "2022-02-25T22:14:42.793200",
     "exception": false,
     "start_time": "2022-02-25T22:14:41.623672",
     "status": "completed"
    },
    "tags": []
   },
   "outputs": [],
   "source": [
    "plt.figure(figsize=(18,10))\n",
    "sns.boxplot(x='Country', y='Income', hue='Education',data=data)\n",
    "plt.title(\"Income Ranges for Each Education Level, by Country\", fontdict={'fontweight':'bold','fontsize':15})\n",
    "plt.show()"
   ]
  },
  {
   "cell_type": "markdown",
   "id": "536373f4",
   "metadata": {
    "papermill": {
     "duration": 0.108541,
     "end_time": "2022-02-25T22:14:43.008471",
     "exception": false,
     "start_time": "2022-02-25T22:14:42.899930",
     "status": "completed"
    },
    "tags": []
   },
   "source": [
    "According to some research, `2n Cycle` represents the education level after bachelors. This is equivalent to a Masters. \n",
    "\n",
    "In the American education system, the education levels are as follows (highest to lowest):\n",
    "1. PhD. or Advanced Degree\n",
    "2. Masters\n",
    "3. Undergraduate: Bachelors/Associates\n",
    "4. Highschool and below\n",
    "\n",
    "What can we conclude from the graph above?\n",
    "1. PhD has a higher (older) age range compared to Graduation, except in Germany.\n",
    "2. Basic has a lowest (younger) age range, except in Australia and India.\n",
    "3. Graduation has a wide income range.\n",
    "\n",
    "**Now, how can we group certain values?**\n",
    "1. `PhD` will stay as is.\n",
    "2. `Graduation` can either mean `Work in progress` or be changed to `Undergraduate`.\n",
    "3. `2n Cycle` will be grouped with `Master`.\n",
    "4. `Basic` will stay as is."
   ]
  },
  {
   "cell_type": "code",
   "execution_count": null,
   "id": "85cdaa13",
   "metadata": {
    "execution": {
     "iopub.execute_input": "2022-02-25T22:14:43.231265Z",
     "iopub.status.busy": "2022-02-25T22:14:43.230393Z",
     "iopub.status.idle": "2022-02-25T22:14:43.233102Z",
     "shell.execute_reply": "2022-02-25T22:14:43.233655Z",
     "shell.execute_reply.started": "2021-12-13T22:07:15.948976Z"
    },
    "papermill": {
     "duration": 0.118385,
     "end_time": "2022-02-25T22:14:43.233845",
     "exception": false,
     "start_time": "2022-02-25T22:14:43.115460",
     "status": "completed"
    },
    "tags": []
   },
   "outputs": [],
   "source": [
    "education_map = {\"Graduation\":\"Undergraduate\", \"2n Cycle\":\"Master\", \"PhD\":\"PhD\", \"Basic\":\"Basic\", \"Master\":\"Master\"}\n",
    "\n",
    "data['New_Education'] = data['Education'].map(education_map, na_action='ignore')"
   ]
  },
  {
   "cell_type": "code",
   "execution_count": null,
   "id": "c2182ea1",
   "metadata": {
    "execution": {
     "iopub.execute_input": "2022-02-25T22:14:43.459833Z",
     "iopub.status.busy": "2022-02-25T22:14:43.459157Z",
     "iopub.status.idle": "2022-02-25T22:14:43.461801Z",
     "shell.execute_reply": "2022-02-25T22:14:43.462364Z",
     "shell.execute_reply.started": "2021-12-13T22:07:15.957463Z"
    },
    "papermill": {
     "duration": 0.120878,
     "end_time": "2022-02-25T22:14:43.462554",
     "exception": false,
     "start_time": "2022-02-25T22:14:43.341676",
     "status": "completed"
    },
    "tags": []
   },
   "outputs": [],
   "source": [
    "data['New_Education'].value_counts(dropna=False)"
   ]
  },
  {
   "cell_type": "code",
   "execution_count": null,
   "id": "8b21883b",
   "metadata": {
    "execution": {
     "iopub.execute_input": "2022-02-25T22:14:43.904434Z",
     "iopub.status.busy": "2022-02-25T22:14:43.903745Z",
     "iopub.status.idle": "2022-02-25T22:14:43.910658Z",
     "shell.execute_reply": "2022-02-25T22:14:43.911186Z",
     "shell.execute_reply.started": "2021-12-13T22:07:15.98714Z"
    },
    "papermill": {
     "duration": 0.117672,
     "end_time": "2022-02-25T22:14:43.911385",
     "exception": false,
     "start_time": "2022-02-25T22:14:43.793713",
     "status": "completed"
    },
    "tags": []
   },
   "outputs": [],
   "source": [
    "data['Marital_Status'].value_counts()"
   ]
  },
  {
   "cell_type": "code",
   "execution_count": null,
   "id": "252a3037",
   "metadata": {
    "execution": {
     "iopub.execute_input": "2022-02-25T22:14:44.152746Z",
     "iopub.status.busy": "2022-02-25T22:14:44.152041Z",
     "iopub.status.idle": "2022-02-25T22:14:46.079239Z",
     "shell.execute_reply": "2022-02-25T22:14:46.079773Z",
     "shell.execute_reply.started": "2021-12-13T22:07:15.997867Z"
    },
    "papermill": {
     "duration": 2.060668,
     "end_time": "2022-02-25T22:14:46.079974",
     "exception": false,
     "start_time": "2022-02-25T22:14:44.019306",
     "status": "completed"
    },
    "tags": []
   },
   "outputs": [],
   "source": [
    "rows = 4\n",
    "cols = 2\n",
    "\n",
    "fig, axes = plt.subplots(rows, cols, figsize=(20,18))\n",
    "colors = ['tab:blue','tab:orange','tab:green','tab:red','tab:purple','tab:pink','tab:gray','tab:cyan']\n",
    "\n",
    "counter = 0\n",
    "unique_vals = data['Marital_Status'].unique()\n",
    "\n",
    "for i in range(rows):\n",
    "    for j in range(cols):\n",
    "        ax = axes[i][j]\n",
    "        ax.hist(data[data['Marital_Status'] == unique_vals[counter]]['Age'],\n",
    "                color=colors[counter])\n",
    "        ax.set_title('{}'.format(unique_vals[counter]), fontdict={'fontsize':15, 'fontweight':'bold'})\n",
    "        ax.set_xlabel('Age')\n",
    "        ax.set_ylabel('Frequency')\n",
    "        plt.subplots_adjust(hspace=0.3)\n",
    "\n",
    "        counter+=1"
   ]
  },
  {
   "cell_type": "markdown",
   "id": "9c58df71",
   "metadata": {
    "papermill": {
     "duration": 0.111302,
     "end_time": "2022-02-25T22:14:46.301087",
     "exception": false,
     "start_time": "2022-02-25T22:14:46.189785",
     "status": "completed"
    },
    "tags": []
   },
   "source": [
    "For marital status, it is legally defined. The values `Married`, `Single`, `Divorced`, and `Widow` are all acceptable values.\n",
    "\n",
    "- `Together` can mean they are in a relationship, but they are not married. With the wide age distribution above and legally, we'll classify this as `Single`.\n",
    "- `Alone` will be classified as `Single`.\n",
    "- `Absurd` and `YOLO` will be classified into the mode of the values."
   ]
  },
  {
   "cell_type": "code",
   "execution_count": null,
   "id": "c64a9a38",
   "metadata": {
    "execution": {
     "iopub.execute_input": "2022-02-25T22:14:46.524230Z",
     "iopub.status.busy": "2022-02-25T22:14:46.523161Z",
     "iopub.status.idle": "2022-02-25T22:14:46.532029Z",
     "shell.execute_reply": "2022-02-25T22:14:46.531412Z",
     "shell.execute_reply.started": "2021-12-13T22:07:17.693979Z"
    },
    "papermill": {
     "duration": 0.121341,
     "end_time": "2022-02-25T22:14:46.532185",
     "exception": false,
     "start_time": "2022-02-25T22:14:46.410844",
     "status": "completed"
    },
    "tags": []
   },
   "outputs": [],
   "source": [
    "data['Marital_Status'].mode()"
   ]
  },
  {
   "cell_type": "code",
   "execution_count": null,
   "id": "3448e10a",
   "metadata": {
    "execution": {
     "iopub.execute_input": "2022-02-25T22:14:46.764383Z",
     "iopub.status.busy": "2022-02-25T22:14:46.763322Z",
     "iopub.status.idle": "2022-02-25T22:14:46.765532Z",
     "shell.execute_reply": "2022-02-25T22:14:46.766123Z",
     "shell.execute_reply.started": "2021-12-13T22:07:17.703129Z"
    },
    "papermill": {
     "duration": 0.123269,
     "end_time": "2022-02-25T22:14:46.766323",
     "exception": false,
     "start_time": "2022-02-25T22:14:46.643054",
     "status": "completed"
    },
    "tags": []
   },
   "outputs": [],
   "source": [
    "marital_map = {'Divorced':'Divorced', 'Single':'Single', 'Married':'Married', 'Together':'Single', \n",
    "               'Widow':'Widow', 'YOLO':'Married', 'Alone':'Single', 'Absurd':'Married'}\n",
    "\n",
    "data['New_Marital_Status'] = data['Marital_Status'].map(marital_map)"
   ]
  },
  {
   "cell_type": "code",
   "execution_count": null,
   "id": "128d64d7",
   "metadata": {
    "execution": {
     "iopub.execute_input": "2022-02-25T22:14:46.994113Z",
     "iopub.status.busy": "2022-02-25T22:14:46.993081Z",
     "iopub.status.idle": "2022-02-25T22:14:47.000796Z",
     "shell.execute_reply": "2022-02-25T22:14:47.001372Z",
     "shell.execute_reply.started": "2021-12-13T22:07:17.715643Z"
    },
    "papermill": {
     "duration": 0.124294,
     "end_time": "2022-02-25T22:14:47.001560",
     "exception": false,
     "start_time": "2022-02-25T22:14:46.877266",
     "status": "completed"
    },
    "tags": []
   },
   "outputs": [],
   "source": [
    "data['New_Marital_Status'].value_counts(dropna=False)"
   ]
  },
  {
   "cell_type": "code",
   "execution_count": null,
   "id": "e07dd331",
   "metadata": {
    "execution": {
     "iopub.execute_input": "2022-02-25T22:14:47.227042Z",
     "iopub.status.busy": "2022-02-25T22:14:47.225996Z",
     "iopub.status.idle": "2022-02-25T22:14:47.233938Z",
     "shell.execute_reply": "2022-02-25T22:14:47.234489Z",
     "shell.execute_reply.started": "2021-12-13T22:07:17.72881Z"
    },
    "papermill": {
     "duration": 0.122249,
     "end_time": "2022-02-25T22:14:47.234688",
     "exception": false,
     "start_time": "2022-02-25T22:14:47.112439",
     "status": "completed"
    },
    "tags": []
   },
   "outputs": [],
   "source": [
    "data['Marital_Status'].value_counts(dropna=False)"
   ]
  },
  {
   "cell_type": "markdown",
   "id": "ef9275a2",
   "metadata": {
    "papermill": {
     "duration": 0.112725,
     "end_time": "2022-02-25T22:14:47.461636",
     "exception": false,
     "start_time": "2022-02-25T22:14:47.348911",
     "status": "completed"
    },
    "tags": []
   },
   "source": [
    "### Feature engineering\n",
    "\n",
    "Altering variables, usually, to make the data be usable by machine learning models. In this case, we will perform a few to make them easier to understand."
   ]
  },
  {
   "cell_type": "code",
   "execution_count": null,
   "id": "f6dcff66",
   "metadata": {
    "execution": {
     "iopub.execute_input": "2022-02-25T22:14:47.690826Z",
     "iopub.status.busy": "2022-02-25T22:14:47.689747Z",
     "iopub.status.idle": "2022-02-25T22:14:47.729207Z",
     "shell.execute_reply": "2022-02-25T22:14:47.729847Z",
     "shell.execute_reply.started": "2021-12-13T22:07:17.739522Z"
    },
    "papermill": {
     "duration": 0.155962,
     "end_time": "2022-02-25T22:14:47.730066",
     "exception": false,
     "start_time": "2022-02-25T22:14:47.574104",
     "status": "completed"
    },
    "tags": []
   },
   "outputs": [],
   "source": [
    "# Total number of dependents in the household\n",
    "data['Dependents'] = data['Kidhome'] + data['Teenhome']\n",
    "\n",
    "# How long the person has been a customer in days\n",
    "data['Customer_duration_days'] = datetime.datetime.now() - data['Dt_Customer']\n",
    "data['Customer_duration_days'] = data['Customer_duration_days'].apply(lambda x: x.days)\n",
    "\n",
    "# Total number of marketing campaigns the customer has accepted\n",
    "data['TotalCmpAccept'] = data[['AcceptedCmp3', 'AcceptedCmp4', 'AcceptedCmp5', \n",
    "                               'AcceptedCmp1','AcceptedCmp2', 'Response']].sum(axis=1)"
   ]
  },
  {
   "cell_type": "markdown",
   "id": "9b8b746e",
   "metadata": {
    "papermill": {
     "duration": 0.110685,
     "end_time": "2022-02-25T22:14:47.951363",
     "exception": false,
     "start_time": "2022-02-25T22:14:47.840678",
     "status": "completed"
    },
    "tags": []
   },
   "source": [
    "### Trends within the data\n",
    "\n",
    "To uncover any trends within the data, we'll start off by seeing if there are any correlations between each numeric variable."
   ]
  },
  {
   "cell_type": "code",
   "execution_count": null,
   "id": "0f3adb9f",
   "metadata": {
    "execution": {
     "iopub.execute_input": "2022-02-25T22:14:48.178600Z",
     "iopub.status.busy": "2022-02-25T22:14:48.177542Z",
     "iopub.status.idle": "2022-02-25T22:14:49.561991Z",
     "shell.execute_reply": "2022-02-25T22:14:49.561409Z",
     "shell.execute_reply.started": "2021-12-13T22:07:17.782621Z"
    },
    "papermill": {
     "duration": 1.498322,
     "end_time": "2022-02-25T22:14:49.562155",
     "exception": false,
     "start_time": "2022-02-25T22:14:48.063833",
     "status": "completed"
    },
    "tags": []
   },
   "outputs": [],
   "source": [
    "fig = plt.figure(figsize=(15,10))\n",
    "\n",
    "corr = data.drop('ID', axis=1).corr()\n",
    "\n",
    "matrix = np.triu(corr) # upper triangular corelation matrix\n",
    "ax = sns.heatmap(corr, annot=True, cmap='coolwarm', mask=matrix)\n",
    "for t in ax.texts:\n",
    "    if abs(float(t.get_text()))>=0.4:\n",
    "        t.set_text(t.get_text()) #if the value is greater than 0.4 or less than -0.4 then make the value visible\n",
    "    else:\n",
    "        t.set_text(\"\") # if not it sets an empty text\n",
    "\n",
    "\n",
    "plt.show()"
   ]
  },
  {
   "cell_type": "markdown",
   "id": "47c18012",
   "metadata": {
    "papermill": {
     "duration": 0.114558,
     "end_time": "2022-02-25T22:14:49.793831",
     "exception": false,
     "start_time": "2022-02-25T22:14:49.679273",
     "status": "completed"
    },
    "tags": []
   },
   "source": [
    "### Insights\n",
    "The heatmap above shows the correlation that is either above 0.4 or below -0.4, meaning whether or not they are positively or negatively correlated.\n",
    "\n",
    "**Observations:**\n",
    "- All products, besides Gold products, are positively correlated with income. Wine and meat having the strongest correlation of 0.69.\n",
    "- Catalog purchases is positively correlated (0.7) with income \n",
    "- Number of website visits per month is negatively correlated (-0.65) with income\n",
    "- Number of dependents is negatively correlated with fruit, meat, and fish products (-0.4, -0.5, -0.43)\n",
    "- Positive correlation for products: \n",
    "    - Meat with wine, meat with fruit, \n",
    "    - Fish with wine, fish with fruit, fish with meat\n",
    "    - Sweet with fruit, sweet with meat, sweet with fish\n",
    "    - Gold with fish\n",
    "- Web purchases with income (0.46), wine (0.55), gold (0.41)\n",
    "- Catalog purchases with income (0.7), wine 0.63, fruit .49, meat .73, fish .53, sweet .49, gold .44\n",
    "- Campaign 5 has a slight positive correlation with income and wine\n",
    "- Campaign 1 has a slight positive correlation with campaign 5\n",
    "- Number of dependents has a negative correlation with all the products, stronger with fruits, meats, and fish.\n",
    "- total campaigns accepted has a slight positive correlation with wines 0.49\n",
    "\n",
    "**We can assume that:**\n",
    "- People who make catalog purchases, they are likely to purchase at least one of the products.\n",
    "- People who make store purchases, they are less likely to purchase gold products compared to the other products.\n",
    "- Marketing campaign 1 and 5 have similar elements in which they targeted generally the same type of customer.\n",
    "- Marketing campaign 5 catered towards people with higher income and/or people who like wine.\n",
    "- Since the correlation with dependents and the products have a negative relationship, maybe this store does not cater towards families?\n",
    "\n",
    "### Dependents Trends\n",
    "1. Does the amount of total products bought vary between the number of dependents a customer has?\n",
    "2. Does the type of purchase vary between the number of dependents a customer has?"
   ]
  },
  {
   "cell_type": "code",
   "execution_count": null,
   "id": "ddc938ca",
   "metadata": {
    "execution": {
     "iopub.execute_input": "2022-02-25T22:14:50.029212Z",
     "iopub.status.busy": "2022-02-25T22:14:50.028462Z",
     "iopub.status.idle": "2022-02-25T22:14:50.298770Z",
     "shell.execute_reply": "2022-02-25T22:14:50.299350Z",
     "shell.execute_reply.started": "2021-12-13T22:07:18.965157Z"
    },
    "papermill": {
     "duration": 0.390119,
     "end_time": "2022-02-25T22:14:50.299543",
     "exception": false,
     "start_time": "2022-02-25T22:14:49.909424",
     "status": "completed"
    },
    "tags": []
   },
   "outputs": [],
   "source": [
    "data['TotalProducts'] = data[['MntWines', 'MntFruits','MntMeatProducts', \n",
    "                              'MntFishProducts', 'MntSweetProducts','MntGoldProds']].sum(axis=1)\n",
    "plt.figure(figsize=(15,7))\n",
    "sns.boxplot(x='Dependents', y='TotalProducts', data=data)\n",
    "plt.title(\"Total Products Purchased Grouped by # of Dependents\", fontdict={'fontsize':15,'fontweight':'bold'})\n",
    "plt.show()"
   ]
  },
  {
   "cell_type": "markdown",
   "id": "fc789c5b",
   "metadata": {
    "papermill": {
     "duration": 0.114891,
     "end_time": "2022-02-25T22:14:50.531125",
     "exception": false,
     "start_time": "2022-02-25T22:14:50.416234",
     "status": "completed"
    },
    "tags": []
   },
   "source": [
    "### Insights\n",
    "From the boxplots above, we can see that the total number of products a customer bought decreased as the number of dependents increased (negative correlation). \n",
    "\n",
    "### Action\n",
    "Dependent on our goal, we can either look into what kind of products the people with 0-1 dependent(s) are buying and improve marketing, increase inventory, or introduce more complements to increase sales."
   ]
  },
  {
   "cell_type": "code",
   "execution_count": null,
   "id": "31ce036e",
   "metadata": {
    "execution": {
     "iopub.execute_input": "2022-02-25T22:14:50.762176Z",
     "iopub.status.busy": "2022-02-25T22:14:50.761475Z",
     "iopub.status.idle": "2022-02-25T22:14:51.463561Z",
     "shell.execute_reply": "2022-02-25T22:14:51.464215Z",
     "shell.execute_reply.started": "2021-12-13T22:07:19.207238Z"
    },
    "papermill": {
     "duration": 0.819701,
     "end_time": "2022-02-25T22:14:51.464414",
     "exception": false,
     "start_time": "2022-02-25T22:14:50.644713",
     "status": "completed"
    },
    "tags": []
   },
   "outputs": [],
   "source": [
    "purchase_cols = ['NumDealsPurchases', 'NumWebPurchases','NumCatalogPurchases', \n",
    "                 'NumStorePurchases', 'NumWebVisitsMonth']\n",
    "df = pd.melt(data,\n",
    "             id_vars='ID',\n",
    "             value_vars=purchase_cols,\n",
    "             value_name='Amount')\n",
    "\n",
    "dependents_df = data[['ID','Dependents']]\n",
    "\n",
    "purch_v_depend = df.merge(dependents_df, how='inner', left_on='ID', right_on='ID').sort_values('variable')\n",
    "\n",
    "plt.figure(figsize=(15,7))\n",
    "sns.boxplot(x='Dependents', y='Amount', hue='variable', data=purch_v_depend)\n",
    "\n",
    "plt.show()"
   ]
  },
  {
   "cell_type": "markdown",
   "id": "e456b415",
   "metadata": {
    "papermill": {
     "duration": 0.116529,
     "end_time": "2022-02-25T22:14:51.695858",
     "exception": false,
     "start_time": "2022-02-25T22:14:51.579329",
     "status": "completed"
    },
    "tags": []
   },
   "source": [
    "### Insights\n",
    "With the boxplots above, we an see that catalog purchases and store purchases decreased when the number of dependents increased. Web purchases stayed relatively the same across the number of dependents. One reason that may cause this is that customers with more children to take care of, they do not have the time to visit a store or go through a catalog to make purchases. The website may be more convenient for them.\n",
    "\n",
    "Interestly enough, web site visits per month AND the number of deals purchased increased as the number of dependents increased (positive correlation). Either this proves what I said in the statement above or the dependents are the ones visiting the website. We have no way to confirm this as we have no website user data. \n",
    "\n",
    "### Action\n",
    "If we are trying to improve the number of catalog purchases, we can give deals to products that customers with more dependents are likely to buy. What are these products? This requires further analysis. \n",
    "\n",
    "If we are trying to improve the number of store purchases, we can change the layout of the store to put more popular products in the front or have exclusive in-store products."
   ]
  },
  {
   "cell_type": "markdown",
   "id": "f97d5ec5",
   "metadata": {
    "papermill": {
     "duration": 0.116987,
     "end_time": "2022-02-25T22:14:51.930700",
     "exception": false,
     "start_time": "2022-02-25T22:14:51.813713",
     "status": "completed"
    },
    "tags": []
   },
   "source": [
    "### Marketing Campaign Trends\n",
    "1. For the people who accept each campaign, what are their incomes?\n",
    "2. Where are these campaigns being accepted?\n",
    "3. Products vs accepted the campaign. Can we decipher what products are associated with each campaign?"
   ]
  },
  {
   "cell_type": "code",
   "execution_count": null,
   "id": "69948fd6",
   "metadata": {
    "execution": {
     "iopub.execute_input": "2022-02-25T22:14:52.167729Z",
     "iopub.status.busy": "2022-02-25T22:14:52.167032Z",
     "iopub.status.idle": "2022-02-25T22:14:52.514642Z",
     "shell.execute_reply": "2022-02-25T22:14:52.515424Z",
     "shell.execute_reply.started": "2021-12-13T22:07:19.804825Z"
    },
    "papermill": {
     "duration": 0.468392,
     "end_time": "2022-02-25T22:14:52.515619",
     "exception": false,
     "start_time": "2022-02-25T22:14:52.047227",
     "status": "completed"
    },
    "tags": []
   },
   "outputs": [],
   "source": [
    "campaign_cols = ['AcceptedCmp1','AcceptedCmp2','AcceptedCmp3', 'AcceptedCmp4', 'AcceptedCmp5','Response']\n",
    "df = pd.melt(data, \n",
    "             id_vars='ID', \n",
    "             value_vars=campaign_cols,\n",
    "             var_name='Campaign #')\n",
    "\n",
    "accepted_cmp_df = df[df['value']==1]\n",
    "income_df = data[['ID','Income']]\n",
    "\n",
    "cmp_v_income = accepted_cmp_df.merge(income_df, how='inner', left_on='ID', right_on='ID').sort_values('Campaign #')\n",
    "\n",
    "plt.figure(figsize=(15,7))\n",
    "sns.boxplot(x='Campaign #', y='Income', data=cmp_v_income)\n",
    "plt.title(\"Income Boxplots for the Customers Who Accepted Each Campaign\", \n",
    "          fontdict={'fontsize':15,'fontweight':'bold'})\n",
    "plt.show()"
   ]
  },
  {
   "cell_type": "markdown",
   "id": "5e117c4e",
   "metadata": {
    "papermill": {
     "duration": 0.116722,
     "end_time": "2022-02-25T22:14:52.750748",
     "exception": false,
     "start_time": "2022-02-25T22:14:52.634026",
     "status": "completed"
    },
    "tags": []
   },
   "source": [
    "### Insights\n",
    "With the boxplots above, we can see that in fact customers who accepted campaign 1 and campaign 5 have similar income ranges. Similarly for customers who accepted campaign 2 and campaign 4. Customers for campaigns 3 and 6 (Response) cover a wider income range.\n",
    "\n",
    "### Action\n",
    "Dependent on the audience for each marketing campaign, we can use this insight about the marketing campaign to better replicate a more successful campaign. "
   ]
  },
  {
   "cell_type": "code",
   "execution_count": null,
   "id": "28553f69",
   "metadata": {
    "execution": {
     "iopub.execute_input": "2022-02-25T22:14:52.999447Z",
     "iopub.status.busy": "2022-02-25T22:14:52.988420Z",
     "iopub.status.idle": "2022-02-25T22:14:54.465490Z",
     "shell.execute_reply": "2022-02-25T22:14:54.466070Z",
     "shell.execute_reply.started": "2021-12-13T22:07:20.090215Z"
    },
    "papermill": {
     "duration": 1.598674,
     "end_time": "2022-02-25T22:14:54.466270",
     "exception": false,
     "start_time": "2022-02-25T22:14:52.867596",
     "status": "completed"
    },
    "tags": []
   },
   "outputs": [],
   "source": [
    "product_cols = ['MntWines', 'MntFruits','MntMeatProducts', 'MntFishProducts', 'MntSweetProducts','MntGoldProds']\n",
    "campaign_df = data.melt(id_vars='ID',\n",
    "                        value_vars=campaign_cols, \n",
    "                        var_name='Campaign #', \n",
    "                        value_name='Accepted')\n",
    "product_df = data[['ID', 'MntWines', 'MntFruits',\n",
    "                   'MntMeatProducts', 'MntFishProducts', 'MntSweetProducts','MntGoldProds']]\n",
    "\n",
    "cmp_acc_df = campaign_df[campaign_df['Accepted'] == 1]\n",
    "\n",
    "cmp_v_prod = cmp_acc_df.merge(product_df, how='inner', left_on='ID', right_on='ID').sort_values('Campaign #')\n",
    "cmp_v_prod\n",
    "final_cmp_prod = cmp_v_prod.melt(id_vars=['ID', 'Campaign #'],\n",
    "                                 value_vars=product_cols,\n",
    "                                 var_name='Product',\n",
    "                                 value_name='Amount')\n",
    "\n",
    "meat_wine = final_cmp_prod[final_cmp_prod['Product'].isin(['MntWines', 'MntMeatProducts'])]\n",
    "all_other_prod = final_cmp_prod[~final_cmp_prod['Product'].isin(['MntWines', 'MntMeatProducts'])]\n",
    "\n",
    "########################\n",
    "\n",
    "fig, axes = plt.subplots(2,1,figsize=(15,15))\n",
    "\n",
    "sns.boxplot(x='Campaign #', y='Amount', hue='Product', data=meat_wine, \n",
    "            ax=axes[0])\n",
    "sns.boxplot(x='Campaign #', y='Amount', hue='Product', data=all_other_prod, \n",
    "            palette=['tab:green','tab:red', 'tab:purple','tab:brown'],\n",
    "            ax=axes[1])\n",
    "axes[0].legend(bbox_to_anchor=(1,1))\n",
    "axes[1].legend(bbox_to_anchor=(1,1))\n",
    "\n",
    "plt.show()"
   ]
  },
  {
   "cell_type": "markdown",
   "id": "83a37822",
   "metadata": {
    "papermill": {
     "duration": 0.122316,
     "end_time": "2022-02-25T22:14:54.728701",
     "exception": false,
     "start_time": "2022-02-25T22:14:54.606385",
     "status": "completed"
    },
    "tags": []
   },
   "source": [
    "### Insights\n",
    "For the people who accepted campaign #2, bought the largest amount of wine (per customer), keep in mind only 30 customers accepted campaign #2 out of the 2000. Campaign #5 and #1 seem to be the top campaigns across all products. But, the overarching question is why did many people not accept campaign #2? What made campaign #5 and #1 successful?\n",
    "\n",
    "Overview of the boxplots:\n",
    "- Campaign #1 made people buy fish products more\n",
    "- Campaign #2 made people buy wine products more\n",
    "- Campaign #3 didn't necessarily improve any sales\n",
    "- Campaign #4 didn't necessarily improve any sales\n",
    "- Campaign #5 made a slight increase in all products, but not the most\n",
    "- Response or Campaign #6 made a slight decrease in all products from Campaign #5, but not the worst\n",
    "\n",
    "### Action\n",
    "Further analyze what made campaign #2 have more wine products sell and how campaign #1 and #5 were more successful compared to the other campaigns. Also, what went wrong in campaign #3?\n",
    "\n",
    "# 2. Statistical Analysis\n",
    "Please run statistical tests in the **form of regressions** to answer these questions and propose data-driven action recommendations to your CMO. Make sure to interpret your results with non-statistical jargon so your CMO can understand your findings.\n",
    "\n",
    "**Questions we'll be answering**:\n",
    "\n",
    "- What factors are significantly related to the number of store purchases?\n",
    "- Does US fare significantly better than the Rest of the World in terms of total purchases?\n",
    "- Your supervisor insists that people who buy gold are more conservative. Therefore, people who spent an above average amount on gold in the last 2 years would have more in store purchases. Justify or refute this statement using an appropriate statistical test.\n",
    "- Fish has Omega 3 fatty acids which are good for the brain. Accordingly, do \"Married PhD candidates\" have a significant relation with amount spent on fish? What other factors are significantly related to amount spent on fish? (Hint: use your knowledge of interaction variables/effects)\n",
    "- Is there a significant relationship between geographical regional and success of a campaign?\n",
    "\n",
    "## What factors are significantly related to the number of store purchases?\n",
    "To do this in a form of a regression, we will perform a linear regression with certain factors. Our model will predict how many store purchases a customer will make based on the given factors. To figure out what factors are significantly related, anything less than the p-value of 0.05 will be significant. We can also assess the accuracy of our model with an error metric, RMSE.\n",
    "\n",
    "**Steps to perform linear regression**:\n",
    "1. Visualize the distribution of the target variable (`NumStorePurchases`)\n",
    "2. Drop features that have no utility, cause data leakage, and highly correlated features with each other\n",
    "3. Create dummy columns for categorical features\n",
    "4. Perform linear regression with 70/30 train test split\n",
    "5. Feature selection\n",
    "6. Perform linear regression with X best features 70/30 train test split\n",
    "7. Report results\n",
    "\n",
    "### Distribution of the target variable"
   ]
  },
  {
   "cell_type": "code",
   "execution_count": null,
   "id": "0ac4c83d",
   "metadata": {
    "execution": {
     "iopub.execute_input": "2022-02-25T22:14:54.978644Z",
     "iopub.status.busy": "2022-02-25T22:14:54.977548Z",
     "iopub.status.idle": "2022-02-25T22:14:55.237331Z",
     "shell.execute_reply": "2022-02-25T22:14:55.238014Z",
     "shell.execute_reply.started": "2021-12-13T22:07:21.365602Z"
    },
    "papermill": {
     "duration": 0.389382,
     "end_time": "2022-02-25T22:14:55.238204",
     "exception": false,
     "start_time": "2022-02-25T22:14:54.848822",
     "status": "completed"
    },
    "tags": []
   },
   "outputs": [],
   "source": [
    "lr_df = data.copy()\n",
    "plt.figure(figsize=(10,5))\n",
    "sns.distplot(lr_df['NumStorePurchases'], kde=False,hist=True, bins=12)\n",
    "plt.title(\"Store Purchases Distribution\", size=15)\n",
    "plt.ylabel(\"Count\")\n",
    "\n",
    "plt.show()"
   ]
  },
  {
   "cell_type": "markdown",
   "id": "dfe99431",
   "metadata": {
    "papermill": {
     "duration": 0.12073,
     "end_time": "2022-02-25T22:14:55.480885",
     "exception": false,
     "start_time": "2022-02-25T22:14:55.360155",
     "status": "completed"
    },
    "tags": []
   },
   "source": [
    "### Dropping columns for our model\n",
    "We'll drop `ID`, `Year_Birth`, `Education`, `Marital_Status`, `Kidhome`, `Teenhome`, and, `Dt_Customer` because we either created new columns for them and/or there is no arbitary meaning (ex. `ID`)."
   ]
  },
  {
   "cell_type": "code",
   "execution_count": null,
   "id": "d013ed49",
   "metadata": {
    "execution": {
     "iopub.execute_input": "2022-02-25T22:14:55.724127Z",
     "iopub.status.busy": "2022-02-25T22:14:55.723023Z",
     "iopub.status.idle": "2022-02-25T22:14:55.728900Z",
     "shell.execute_reply": "2022-02-25T22:14:55.729568Z",
     "shell.execute_reply.started": "2021-12-13T22:07:21.591624Z"
    },
    "papermill": {
     "duration": 0.129286,
     "end_time": "2022-02-25T22:14:55.729754",
     "exception": false,
     "start_time": "2022-02-25T22:14:55.600468",
     "status": "completed"
    },
    "tags": []
   },
   "outputs": [],
   "source": [
    "lr_df = lr_df.drop(['ID','Year_Birth','Education','Marital_Status','Kidhome','Teenhome','Dt_Customer'], axis=1)"
   ]
  },
  {
   "cell_type": "code",
   "execution_count": null,
   "id": "f55c53f9",
   "metadata": {
    "execution": {
     "iopub.execute_input": "2022-02-25T22:14:55.972236Z",
     "iopub.status.busy": "2022-02-25T22:14:55.971166Z",
     "iopub.status.idle": "2022-02-25T22:14:57.182272Z",
     "shell.execute_reply": "2022-02-25T22:14:57.182816Z",
     "shell.execute_reply.started": "2021-12-13T22:07:21.604195Z"
    },
    "papermill": {
     "duration": 1.334153,
     "end_time": "2022-02-25T22:14:57.183026",
     "exception": false,
     "start_time": "2022-02-25T22:14:55.848873",
     "status": "completed"
    },
    "tags": []
   },
   "outputs": [],
   "source": [
    "plt.figure(figsize=(15,9))                       \n",
    "                       \n",
    "corr = lr_df.drop('NumStorePurchases', axis=1).corr()\n",
    "\n",
    "# Getting the Upper Triangle of the co-relation matrix\n",
    "matrix = np.triu(corr)\n",
    "ax = sns.heatmap(corr, annot=True, cmap='coolwarm', fmt='.2f', mask=matrix)\n",
    "for t in ax.texts:\n",
    "    if abs(float(t.get_text()))>=0.4:\n",
    "        t.set_text(t.get_text()) #if the value is greater than 0.4 or less than -0.4 then I set the text \n",
    "    else:\n",
    "        t.set_text(\"\") # if not it sets an empty text\n",
    "\n",
    "\n",
    "plt.show()\n",
    "\n",
    "# Do the independent variables need no correlation with each other? That's one of the assumptions when\n",
    "## performing a linear regression."
   ]
  },
  {
   "cell_type": "markdown",
   "id": "98bf4417",
   "metadata": {
    "papermill": {
     "duration": 0.126441,
     "end_time": "2022-02-25T22:14:57.432701",
     "exception": false,
     "start_time": "2022-02-25T22:14:57.306260",
     "status": "completed"
    },
    "tags": []
   },
   "source": [
    "### Creating dummy columns for categorical variables\n",
    "We will create dummy columns for `Country`, `New_Education`, and `New_Marital_Status`."
   ]
  },
  {
   "cell_type": "code",
   "execution_count": null,
   "id": "da375e2f",
   "metadata": {
    "execution": {
     "iopub.execute_input": "2022-02-25T22:14:57.679543Z",
     "iopub.status.busy": "2022-02-25T22:14:57.678817Z",
     "iopub.status.idle": "2022-02-25T22:14:57.694991Z",
     "shell.execute_reply": "2022-02-25T22:14:57.695587Z",
     "shell.execute_reply.started": "2021-12-13T22:07:22.658819Z"
    },
    "papermill": {
     "duration": 0.14118,
     "end_time": "2022-02-25T22:14:57.695777",
     "exception": false,
     "start_time": "2022-02-25T22:14:57.554597",
     "status": "completed"
    },
    "tags": []
   },
   "outputs": [],
   "source": [
    "categorical_df = lr_df.select_dtypes(exclude='number')\n",
    "\n",
    "dummy_df = pd.DataFrame()\n",
    "for col in categorical_df.columns:\n",
    "    dummy = pd.get_dummies(categorical_df[col], prefix=col)\n",
    "    dummy_df = pd.concat([dummy_df, dummy], axis=1)\n",
    "    \n",
    "lr_df = pd.concat([lr_df, dummy_df], axis=1)\n",
    "lr_df.drop(categorical_df.columns, axis=1, inplace=True)"
   ]
  },
  {
   "cell_type": "code",
   "execution_count": null,
   "id": "1d28e031",
   "metadata": {
    "execution": {
     "iopub.execute_input": "2022-02-25T22:14:57.944127Z",
     "iopub.status.busy": "2022-02-25T22:14:57.943421Z",
     "iopub.status.idle": "2022-02-25T22:14:57.959978Z",
     "shell.execute_reply": "2022-02-25T22:14:57.960524Z",
     "shell.execute_reply.started": "2021-12-13T22:07:22.6783Z"
    },
    "papermill": {
     "duration": 0.14197,
     "end_time": "2022-02-25T22:14:57.960733",
     "exception": false,
     "start_time": "2022-02-25T22:14:57.818763",
     "status": "completed"
    },
    "tags": []
   },
   "outputs": [],
   "source": [
    "lr_df.info()"
   ]
  },
  {
   "cell_type": "markdown",
   "id": "21439171",
   "metadata": {
    "papermill": {
     "duration": 0.127317,
     "end_time": "2022-02-25T22:14:58.213344",
     "exception": false,
     "start_time": "2022-02-25T22:14:58.086027",
     "status": "completed"
    },
    "tags": []
   },
   "source": [
    "### Perform linear regression with all features"
   ]
  },
  {
   "cell_type": "code",
   "execution_count": null,
   "id": "cadb7576",
   "metadata": {
    "execution": {
     "iopub.execute_input": "2022-02-25T22:14:58.470424Z",
     "iopub.status.busy": "2022-02-25T22:14:58.469729Z",
     "iopub.status.idle": "2022-02-25T22:14:59.486542Z",
     "shell.execute_reply": "2022-02-25T22:14:59.485836Z",
     "shell.execute_reply.started": "2021-12-13T22:07:22.695348Z"
    },
    "papermill": {
     "duration": 1.148649,
     "end_time": "2022-02-25T22:14:59.486696",
     "exception": false,
     "start_time": "2022-02-25T22:14:58.338047",
     "status": "completed"
    },
    "tags": []
   },
   "outputs": [],
   "source": [
    "import statsmodels.api as sm\n",
    "from sklearn.linear_model import LinearRegression\n",
    "from sklearn.metrics import mean_squared_error\n",
    "from sklearn.model_selection import train_test_split"
   ]
  },
  {
   "cell_type": "code",
   "execution_count": null,
   "id": "e9a22685",
   "metadata": {
    "execution": {
     "iopub.execute_input": "2022-02-25T22:14:59.739092Z",
     "iopub.status.busy": "2022-02-25T22:14:59.738383Z",
     "iopub.status.idle": "2022-02-25T22:14:59.741354Z",
     "shell.execute_reply": "2022-02-25T22:14:59.740752Z",
     "shell.execute_reply.started": "2021-12-13T22:07:23.77331Z"
    },
    "papermill": {
     "duration": 0.131907,
     "end_time": "2022-02-25T22:14:59.741505",
     "exception": false,
     "start_time": "2022-02-25T22:14:59.609598",
     "status": "completed"
    },
    "tags": []
   },
   "outputs": [],
   "source": [
    "# x_train, x_test, y_train, y_test = train_test_split(lr_df[lr_df.drop('NumStorePurchases',axis=1).columns],\n",
    "#                                                     lr_df['NumStorePurchases'], \n",
    "#                                                     test_size=0.3,\n",
    "#                                                     random_state=42)\n",
    "\n",
    "# lr = LinearRegression(normalize=True)\n",
    "\n",
    "# lr.fit(x_train, y_train)\n",
    "# test_predictions = lr.predict(x_test)\n",
    "# mse = mean_squared_error(y_test, test_predictions)\n",
    "# rmse = np.sqrt(mse)\n",
    "# score = lr.score(x_test, y_test)\n",
    "\n",
    "# print(f\"MSE: {mse}\")\n",
    "# print(f\"RMSE: {rmse}\")\n",
    "# print(f\"Score: {score}\")"
   ]
  },
  {
   "cell_type": "code",
   "execution_count": null,
   "id": "b24a48a5",
   "metadata": {
    "execution": {
     "iopub.execute_input": "2022-02-25T22:14:59.993539Z",
     "iopub.status.busy": "2022-02-25T22:14:59.992849Z",
     "iopub.status.idle": "2022-02-25T22:14:59.996689Z",
     "shell.execute_reply": "2022-02-25T22:14:59.997266Z",
     "shell.execute_reply.started": "2021-12-13T22:07:23.779985Z"
    },
    "papermill": {
     "duration": 0.131235,
     "end_time": "2022-02-25T22:14:59.997453",
     "exception": false,
     "start_time": "2022-02-25T22:14:59.866218",
     "status": "completed"
    },
    "tags": []
   },
   "outputs": [],
   "source": [
    "# importance_coef = lr.coef_\n",
    "# for i,v in enumerate(importance_coef):\n",
    "#     print('Feature: %0d, Score: %.5f' % (i,v))"
   ]
  },
  {
   "cell_type": "markdown",
   "id": "77c2527d",
   "metadata": {
    "papermill": {
     "duration": 0.121842,
     "end_time": "2022-02-25T22:15:00.243820",
     "exception": false,
     "start_time": "2022-02-25T22:15:00.121978",
     "status": "completed"
    },
    "tags": []
   },
   "source": [
    "### Standardizing the numeric values for our LR model\n",
    "\n",
    "The reason we are standardizing rather than normalizing our values is because we are using a linear regression model, which assumes our data has a Gaussian distribution (bell curve)."
   ]
  },
  {
   "cell_type": "code",
   "execution_count": null,
   "id": "7e1da110",
   "metadata": {
    "execution": {
     "iopub.execute_input": "2022-02-25T22:15:00.495108Z",
     "iopub.status.busy": "2022-02-25T22:15:00.494413Z",
     "iopub.status.idle": "2022-02-25T22:15:00.497777Z",
     "shell.execute_reply": "2022-02-25T22:15:00.498360Z",
     "shell.execute_reply.started": "2021-12-13T22:07:23.79224Z"
    },
    "papermill": {
     "duration": 0.132042,
     "end_time": "2022-02-25T22:15:00.498540",
     "exception": false,
     "start_time": "2022-02-25T22:15:00.366498",
     "status": "completed"
    },
    "tags": []
   },
   "outputs": [],
   "source": [
    "# from sklearn import preprocessing\n",
    "\n",
    "# x = lr_df.values\n",
    "# standard_scaler = preprocessing.StandardScaler()\n",
    "# x_scaled = standard_scaler.fit_transform(x)\n",
    "\n",
    "# test_df = pd.DataFrame(x_scaled)\n",
    "# test_df.columns = lr_df.columns"
   ]
  },
  {
   "cell_type": "code",
   "execution_count": null,
   "id": "be16e698",
   "metadata": {
    "execution": {
     "iopub.execute_input": "2022-02-25T22:15:00.746564Z",
     "iopub.status.busy": "2022-02-25T22:15:00.745807Z",
     "iopub.status.idle": "2022-02-25T22:15:00.749637Z",
     "shell.execute_reply": "2022-02-25T22:15:00.750198Z",
     "shell.execute_reply.started": "2021-12-13T22:07:23.803335Z"
    },
    "papermill": {
     "duration": 0.129811,
     "end_time": "2022-02-25T22:15:00.750382",
     "exception": false,
     "start_time": "2022-02-25T22:15:00.620571",
     "status": "completed"
    },
    "tags": []
   },
   "outputs": [],
   "source": [
    "# x_train, x_test, y_train, y_test = train_test_split(test_df[test_df.drop('NumStorePurchases',axis=1).columns],\n",
    "#                                                     test_df['NumStorePurchases'], \n",
    "#                                                     test_size=0.3,\n",
    "#                                                     random_state=42)\n",
    "\n",
    "# lr = LinearRegression(normalize=True)\n",
    "\n",
    "# lr.fit(x_train, y_train)\n",
    "# test_predictions = lr.predict(x_test)\n",
    "# mse = mean_squared_error(y_test, test_predictions)\n",
    "# rmse = np.sqrt(mse)\n",
    "# score = lr.score(x_test, y_test)\n",
    "\n",
    "# print(f\"MSE: {mse}\")\n",
    "# print(f\"RMSE: {rmse}\")\n",
    "# print(f\"Score: {score}\")"
   ]
  },
  {
   "cell_type": "code",
   "execution_count": null,
   "id": "f801c86a",
   "metadata": {
    "execution": {
     "iopub.execute_input": "2022-02-25T22:15:00.998895Z",
     "iopub.status.busy": "2022-02-25T22:15:00.998247Z",
     "iopub.status.idle": "2022-02-25T22:15:01.001647Z",
     "shell.execute_reply": "2022-02-25T22:15:01.002219Z",
     "shell.execute_reply.started": "2021-12-13T22:07:23.818415Z"
    },
    "papermill": {
     "duration": 0.129486,
     "end_time": "2022-02-25T22:15:01.002418",
     "exception": false,
     "start_time": "2022-02-25T22:15:00.872932",
     "status": "completed"
    },
    "tags": []
   },
   "outputs": [],
   "source": [
    "# importance_coef = lr.coef_\n",
    "# for i,v in enumerate(importance_coef):\n",
    "#     print('{}, Score: {:.5f}'.format(test_df.columns[i],v))"
   ]
  },
  {
   "cell_type": "markdown",
   "id": "cd64b6c5",
   "metadata": {
    "papermill": {
     "duration": 0.123896,
     "end_time": "2022-02-25T22:15:01.249556",
     "exception": false,
     "start_time": "2022-02-25T22:15:01.125660",
     "status": "completed"
    },
    "tags": []
   },
   "source": [
    "### OLS Regression"
   ]
  },
  {
   "cell_type": "code",
   "execution_count": null,
   "id": "0826290a",
   "metadata": {
    "execution": {
     "iopub.execute_input": "2022-02-25T22:15:01.502516Z",
     "iopub.status.busy": "2022-02-25T22:15:01.501803Z",
     "iopub.status.idle": "2022-02-25T22:15:01.603188Z",
     "shell.execute_reply": "2022-02-25T22:15:01.601949Z",
     "shell.execute_reply.started": "2021-12-13T22:07:23.830611Z"
    },
    "papermill": {
     "duration": 0.229229,
     "end_time": "2022-02-25T22:15:01.603461",
     "exception": false,
     "start_time": "2022-02-25T22:15:01.374232",
     "status": "completed"
    },
    "tags": []
   },
   "outputs": [],
   "source": [
    "x_train, x_test, y_train, y_test = train_test_split(lr_df[lr_df.drop('NumStorePurchases',axis=1).columns],\n",
    "                                                    lr_df['NumStorePurchases'], \n",
    "                                                    test_size=0.3,\n",
    "                                                    random_state=42)\n",
    "\n",
    "# lr = LinearRegression(normalize=True)\n",
    "# lr.fit(x_test, y_test)\n",
    "\n",
    "x_test = sm.add_constant(x_test)\n",
    "\n",
    "model = sm.OLS(y_test, x_test).fit()\n",
    "predictions = model.predict(x_test)\n",
    "\n",
    "print(model.summary())\n",
    "\n"
   ]
  },
  {
   "cell_type": "code",
   "execution_count": null,
   "id": "d371ae62",
   "metadata": {
    "execution": {
     "iopub.execute_input": "2022-02-25T22:15:01.910935Z",
     "iopub.status.busy": "2022-02-25T22:15:01.887389Z",
     "iopub.status.idle": "2022-02-25T22:15:02.642351Z",
     "shell.execute_reply": "2022-02-25T22:15:02.641625Z",
     "shell.execute_reply.started": "2021-12-13T22:07:23.920113Z"
    },
    "papermill": {
     "duration": 0.881871,
     "end_time": "2022-02-25T22:15:02.642512",
     "exception": false,
     "start_time": "2022-02-25T22:15:01.760641",
     "status": "completed"
    },
    "tags": []
   },
   "outputs": [],
   "source": [
    "p_values = pd.Series(model.pvalues).sort_values(ascending=False)\n",
    "\n",
    "plt.figure(figsize=(15,15))\n",
    "plt.barh(y=p_values.index, width=p_values, color='lightgrey',)\n",
    "plt.vlines(x=0.05, ymin=-0.5, ymax=40.25, colors='red')\n",
    "sns.despine(right=True)\n",
    "plt.title(\"Feature P-values in OLS Regression Model\", size=15)\n",
    "plt.yticks(size=12)\n",
    "plt.xticks(size=12)\n",
    "\n",
    "\n",
    "plt.show()"
   ]
  },
  {
   "cell_type": "markdown",
   "id": "98718692",
   "metadata": {
    "papermill": {
     "duration": 0.127143,
     "end_time": "2022-02-25T22:15:02.895521",
     "exception": false,
     "start_time": "2022-02-25T22:15:02.768378",
     "status": "completed"
    },
    "tags": []
   },
   "source": [
    "### Insights\n",
    "From our OLS regression model with all the features, the following are the significant features:\n",
    "1. `Total Products` \n",
    "- `NumWebVisitsMonth`\n",
    "- `MntMeatProducts` \n",
    "- `AcceptedCmp5` \n",
    "- `NumDealsPurchases`\n",
    "- `NumWebPurchases`\n",
    "- `New_Education_Undergraduate` \n",
    "- `New_Marital_Status_Widow` \n",
    "- `New_Education_PhD` \n",
    "- `New_Education_Master`\n",
    "- `MntWines` \n",
    "- `AcceptedCmp2`\n",
    "\n",
    "Let's perform the model again and see what R-squared value we get. (This explains the accuracy of our model)\n",
    "\n",
    "### OLS Regression with significant features"
   ]
  },
  {
   "cell_type": "code",
   "execution_count": null,
   "id": "49273432",
   "metadata": {
    "execution": {
     "iopub.execute_input": "2022-02-25T22:15:03.161353Z",
     "iopub.status.busy": "2022-02-25T22:15:03.160587Z",
     "iopub.status.idle": "2022-02-25T22:15:03.184268Z",
     "shell.execute_reply": "2022-02-25T22:15:03.184810Z",
     "shell.execute_reply.started": "2021-12-13T22:07:24.400408Z"
    },
    "papermill": {
     "duration": 0.162712,
     "end_time": "2022-02-25T22:15:03.185043",
     "exception": false,
     "start_time": "2022-02-25T22:15:03.022331",
     "status": "completed"
    },
    "tags": []
   },
   "outputs": [],
   "source": [
    "significant_features = p_values[p_values < 0.05].drop('const').index\n",
    "\n",
    "x_train, x_test, y_train, y_test = train_test_split(lr_df[significant_features],\n",
    "                                                    lr_df['NumStorePurchases'], \n",
    "                                                    test_size=0.3,\n",
    "                                                    random_state=42)\n",
    "\n",
    "# lr = LinearRegression(normalize=True)\n",
    "# lr.fit(x_test, y_test)\n",
    "\n",
    "x_test = sm.add_constant(x_test)\n",
    "\n",
    "model = sm.OLS(y_test, x_test).fit()\n",
    "predictions = model.predict(x_test)\n",
    "\n",
    "print(model.summary())"
   ]
  },
  {
   "cell_type": "code",
   "execution_count": null,
   "id": "17202030",
   "metadata": {
    "execution": {
     "iopub.execute_input": "2022-02-25T22:15:03.478989Z",
     "iopub.status.busy": "2022-02-25T22:15:03.478080Z",
     "iopub.status.idle": "2022-02-25T22:15:03.481687Z",
     "shell.execute_reply": "2022-02-25T22:15:03.482360Z",
     "shell.execute_reply.started": "2021-12-13T22:07:24.431188Z"
    },
    "papermill": {
     "duration": 0.169202,
     "end_time": "2022-02-25T22:15:03.482575",
     "exception": false,
     "start_time": "2022-02-25T22:15:03.313373",
     "status": "completed"
    },
    "tags": []
   },
   "outputs": [],
   "source": [
    "p_values = pd.Series(model.pvalues)\n",
    "p_values[p_values < 0.05].drop('const').sort_values()"
   ]
  },
  {
   "cell_type": "markdown",
   "id": "45a2a604",
   "metadata": {
    "papermill": {
     "duration": 0.129024,
     "end_time": "2022-02-25T22:15:03.746106",
     "exception": false,
     "start_time": "2022-02-25T22:15:03.617082",
     "status": "completed"
    },
    "tags": []
   },
   "source": [
    "### Linear regression and use Permutation Importance\n",
    "\n",
    "**What is permutation importance?**\n",
    "- It measures how the R2 decreases when a feature is not available in the model.\n",
    "- How the algorithm works is it replaces 1 column's data and sees how the R2 changes. Repeat for each column."
   ]
  },
  {
   "cell_type": "code",
   "execution_count": null,
   "id": "7fcf8b5c",
   "metadata": {
    "execution": {
     "iopub.execute_input": "2022-02-25T22:15:04.005414Z",
     "iopub.status.busy": "2022-02-25T22:15:04.004708Z",
     "iopub.status.idle": "2022-02-25T22:15:04.008215Z",
     "shell.execute_reply": "2022-02-25T22:15:04.007610Z",
     "shell.execute_reply.started": "2021-12-13T22:07:24.441106Z"
    },
    "papermill": {
     "duration": 0.135141,
     "end_time": "2022-02-25T22:15:04.008367",
     "exception": false,
     "start_time": "2022-02-25T22:15:03.873226",
     "status": "completed"
    },
    "tags": []
   },
   "outputs": [],
   "source": [
    "!pip install eli5"
   ]
  },
  {
   "cell_type": "code",
   "execution_count": null,
   "id": "57a530e9",
   "metadata": {
    "execution": {
     "iopub.execute_input": "2022-02-25T22:15:04.269890Z",
     "iopub.status.busy": "2022-02-25T22:15:04.269219Z",
     "iopub.status.idle": "2022-02-25T22:15:11.560341Z",
     "shell.execute_reply": "2022-02-25T22:15:11.559736Z",
     "shell.execute_reply.started": "2021-12-13T22:07:24.451655Z"
    },
    "papermill": {
     "duration": 7.423966,
     "end_time": "2022-02-25T22:15:11.560505",
     "exception": false,
     "start_time": "2022-02-25T22:15:04.136539",
     "status": "completed"
    },
    "tags": []
   },
   "outputs": [],
   "source": [
    "import eli5\n",
    "from eli5.sklearn import PermutationImportance"
   ]
  },
  {
   "cell_type": "code",
   "execution_count": null,
   "id": "4c2e1e7a",
   "metadata": {
    "execution": {
     "iopub.execute_input": "2022-02-25T22:15:11.834806Z",
     "iopub.status.busy": "2022-02-25T22:15:11.833824Z",
     "iopub.status.idle": "2022-02-25T22:15:12.786985Z",
     "shell.execute_reply": "2022-02-25T22:15:12.787906Z",
     "shell.execute_reply.started": "2021-12-13T22:07:31.394233Z"
    },
    "papermill": {
     "duration": 1.098737,
     "end_time": "2022-02-25T22:15:12.788254",
     "exception": false,
     "start_time": "2022-02-25T22:15:11.689517",
     "status": "completed"
    },
    "tags": []
   },
   "outputs": [],
   "source": [
    "def permutation(x_train, x_test, y_train, y_test):\n",
    "    \n",
    "    model = LinearRegression()\n",
    "    model.fit(x_train, y_train)\n",
    "    \n",
    "    permuter = PermutationImportance(\n",
    "        estimator = model, \n",
    "        scoring = 'r2', \n",
    "        n_iter = 5,\n",
    "        random_state = 42)\n",
    "    \n",
    "    permuter.fit(x_test, y_test)\n",
    "    \n",
    "    columns = x_test.columns.to_list()\n",
    "    feature_importance = permuter.feature_importances_\n",
    "    \n",
    "    results = eli5.show_weights(\n",
    "        estimator = permuter,\n",
    "        top = 10,\n",
    "        feature_names = columns\n",
    "    )\n",
    "    return results\n",
    "\n",
    "# Getting the features and target columns\n",
    "all_features = lr_df.drop('NumStorePurchases',axis=1).columns\n",
    "target = 'NumStorePurchases'\n",
    "\n",
    "# Splitting out train and test/validation set\n",
    "x_train, x_test, y_train, y_test = train_test_split(lr_df[all_features],\n",
    "                                                    lr_df[target], \n",
    "                                                    test_size=0.3,\n",
    "                                                    random_state=42)\n",
    "\n",
    "# Getting the feature importance from our model\n",
    "permutation(x_train, x_test, y_train, y_test)\n",
    "\n"
   ]
  },
  {
   "cell_type": "markdown",
   "id": "5508de14",
   "metadata": {
    "papermill": {
     "duration": 0.129083,
     "end_time": "2022-02-25T22:15:13.072725",
     "exception": false,
     "start_time": "2022-02-25T22:15:12.943642",
     "status": "completed"
    },
    "tags": []
   },
   "source": [
    "### Insights\n",
    "Right number is the variance from the left number (decrease). You wouldn't use this explanation method by itself, this is a supplemental tool to provide evidence for your model.\n",
    "\n",
    "With performing the permutation importance above on our linear regression model, the following are our top 10 significant features for NumStorePurcahses:\n",
    "1. Total Products\n",
    "2. NumWebVisitsMonth\n",
    "3. NumMeatProducts\n",
    "- NumWebPurchases\n",
    "- Income\n",
    "- NumDealsPurcahses\n",
    "- Dependents\n",
    "- MntWines\n",
    "- Response\n",
    "- Customer_duration_days\n",
    "\n",
    "### Interpreting the results\n",
    "In other words, dependent on the direction of the relationship between the feature and the target (NumStorePurchases), the target will value will increase or decrease with that specific feature.\n",
    "\n",
    "For an example, the more products a customer bought, the more in-store purchases the customer would have made. Another example being the more website visits per month a customer has, the fewer in-store purchases that customer has. It is important to note that this technique and model does not imply a direct causation, but rather it provides evidence that there is a strong relationship between the feature and the target.\n",
    "\n",
    "## Does US fare significantly better than the Rest of the World in terms of total purchases?\n",
    "Does the US spend more than the rest of the world in terms of total purchases?"
   ]
  },
  {
   "cell_type": "code",
   "execution_count": null,
   "id": "9b1e394b",
   "metadata": {
    "execution": {
     "iopub.execute_input": "2022-02-25T22:15:13.341059Z",
     "iopub.status.busy": "2022-02-25T22:15:13.340303Z",
     "iopub.status.idle": "2022-02-25T22:15:13.840676Z",
     "shell.execute_reply": "2022-02-25T22:15:13.839937Z",
     "shell.execute_reply.started": "2021-12-13T22:07:32.168415Z"
    },
    "papermill": {
     "duration": 0.638482,
     "end_time": "2022-02-25T22:15:13.840856",
     "exception": false,
     "start_time": "2022-02-25T22:15:13.202374",
     "status": "completed"
    },
    "tags": []
   },
   "outputs": [],
   "source": [
    "total_products = data.groupby('Country').sum().sort_values('TotalProducts', ascending=False)\n",
    "\n",
    "fig = plt.figure(figsize=(15,7))\n",
    "sns.barplot(x=total_products.index, y=total_products[\"TotalProducts\"])\n",
    "plt.title(\"Total Products Bought by Country\", size=16)\n",
    "\n",
    "plt.show()"
   ]
  },
  {
   "cell_type": "markdown",
   "id": "15d94714",
   "metadata": {
    "papermill": {
     "duration": 0.129668,
     "end_time": "2022-02-25T22:15:14.100786",
     "exception": false,
     "start_time": "2022-02-25T22:15:13.971118",
     "status": "completed"
    },
    "tags": []
   },
   "source": [
    "### Insights\n",
    "- Spain bought the most products\n",
    "- US is second to last (out of 8)\n",
    "\n",
    "### Interpreting the results\n",
    "To answer our CMO's question, the US does not fare significantly better than the rest of the world in terms of total purchases."
   ]
  },
  {
   "cell_type": "markdown",
   "id": "605142e3",
   "metadata": {
    "papermill": {
     "duration": 0.135836,
     "end_time": "2022-02-25T22:15:14.369233",
     "exception": false,
     "start_time": "2022-02-25T22:15:14.233397",
     "status": "completed"
    },
    "tags": []
   },
   "source": [
    "## Are the people that buy gold products have more in-store purchases?\n",
    "Your supervisor insists that people who buy gold are more conservative. Therefore, people who spent an above average amount on gold in the last 2 years would have more in store purchases. Justify or refute this statement using an appropriate statistical test.\n",
    "\n",
    "How do you answer this?\n",
    "\n",
    "Let's first check the Kendall correlation between the 2 variables. We are using Kendall correlation because the values in both columns are discrete and have some outliers. This measurement will tell us if there is a positive or negative relationship.\n",
    "\n",
    "Next, we'll use the p-value to check if the relationship is statistically significant. In other words, what are the chances that the relationship occurred by chance?"
   ]
  },
  {
   "cell_type": "code",
   "execution_count": null,
   "id": "87da6202",
   "metadata": {
    "execution": {
     "iopub.execute_input": "2022-02-25T22:15:14.669835Z",
     "iopub.status.busy": "2022-02-25T22:15:14.669134Z",
     "iopub.status.idle": "2022-02-25T22:15:17.407712Z",
     "shell.execute_reply": "2022-02-25T22:15:17.408302Z",
     "shell.execute_reply.started": "2021-12-13T22:07:32.436801Z"
    },
    "papermill": {
     "duration": 2.872773,
     "end_time": "2022-02-25T22:15:17.408493",
     "exception": false,
     "start_time": "2022-02-25T22:15:14.535720",
     "status": "completed"
    },
    "tags": []
   },
   "outputs": [],
   "source": [
    "plt.figure(figsize=(20,10))                       \n",
    "                       \n",
    "corr = lr_df.corr(method='kendall')\n",
    "\n",
    "# Getting the Upper Triangle of the co-relation matrix\n",
    "matrix = np.triu(corr)\n",
    "ax = sns.heatmap(corr, annot=True, cmap='coolwarm', fmt='.2f', mask=matrix)\n",
    "for t in ax.texts:\n",
    "    if abs(float(t.get_text()))>=0.3:\n",
    "        t.set_text(t.get_text()) #if the value is greater than 0.4 or less than -0.4 then I set the text \n",
    "    else:\n",
    "        t.set_text(\"\") # if not it sets an empty text\n",
    "\n",
    "\n",
    "plt.show()"
   ]
  },
  {
   "cell_type": "code",
   "execution_count": null,
   "id": "a99ddd3a",
   "metadata": {
    "execution": {
     "iopub.execute_input": "2022-02-25T22:15:17.685031Z",
     "iopub.status.busy": "2022-02-25T22:15:17.678689Z",
     "iopub.status.idle": "2022-02-25T22:15:18.218750Z",
     "shell.execute_reply": "2022-02-25T22:15:18.217867Z",
     "shell.execute_reply.started": "2021-12-13T22:07:34.835977Z"
    },
    "papermill": {
     "duration": 0.675459,
     "end_time": "2022-02-25T22:15:18.218924",
     "exception": false,
     "start_time": "2022-02-25T22:15:17.543465",
     "status": "completed"
    },
    "tags": []
   },
   "outputs": [],
   "source": [
    "from scipy.stats import pearsonr\n",
    "\n",
    "def calculate_pvalues(df):\n",
    "    df = df.dropna()._get_numeric_data()\n",
    "    dfcols = pd.DataFrame(columns=df.columns)\n",
    "    pvalues = dfcols.transpose().join(dfcols, how='outer')\n",
    "    for r in df.columns:\n",
    "        for c in df.columns:\n",
    "            pvalues[r][c] = round(pearsonr(df[r], df[c])[1], 100)\n",
    "    return pvalues\n",
    "\n",
    "\n",
    "kendall_corr = corr['MntGoldProds']['NumStorePurchases']\n",
    "p_value = calculate_pvalues(lr_df)['MntGoldProds']['NumStorePurchases']\n",
    "\n",
    "print(\"Kendall correlation: {}\".format(kendall_corr))\n",
    "print(\"Kendall p-value: {}\".format(p_value))\n",
    "\n",
    "\n"
   ]
  },
  {
   "cell_type": "markdown",
   "id": "0e99ef27",
   "metadata": {
    "papermill": {
     "duration": 0.143531,
     "end_time": "2022-02-25T22:15:18.498440",
     "exception": false,
     "start_time": "2022-02-25T22:15:18.354909",
     "status": "completed"
    },
    "tags": []
   },
   "source": [
    "### Insights\n",
    "For `MntGoldProds` and `NumStorePurchases`:\n",
    "- Kendall correlation: 0.39\n",
    "- Kendall p-value: 1.41e-81\n",
    "\n",
    "### Interpreting the results\n",
    "There is a moderate positive correlation with `MntGoldProds` and `NumStorePurchases`. When the amount of gold products bought goes up, the number of store purchases will go up as well. (This does not imply causation) And the chances of this relationship happening by random chance is close to 0, so this supports our claim about the positive correlation.\n",
    "\n",
    "## Do \"Married PhD Candidates\" have a significant relation with amount spent on fish?\n",
    "\n",
    "Steps to answer the first question:\n",
    "1. Boxplots for Married PhD Candidates vs all others\n",
    "2. Do the same thing as last question"
   ]
  },
  {
   "cell_type": "code",
   "execution_count": null,
   "id": "ae12ee82",
   "metadata": {
    "execution": {
     "iopub.execute_input": "2022-02-25T22:15:18.773670Z",
     "iopub.status.busy": "2022-02-25T22:15:18.769756Z",
     "iopub.status.idle": "2022-02-25T22:15:18.828760Z",
     "shell.execute_reply": "2022-02-25T22:15:18.828142Z",
     "shell.execute_reply.started": "2021-12-13T22:07:35.297594Z"
    },
    "papermill": {
     "duration": 0.195878,
     "end_time": "2022-02-25T22:15:18.828917",
     "exception": false,
     "start_time": "2022-02-25T22:15:18.633039",
     "status": "completed"
    },
    "tags": []
   },
   "outputs": [],
   "source": [
    "def change_marital_status(df):\n",
    "    if df['New_Education'] == 'PhD':\n",
    "        if df['New_Marital_Status'] == 'Married':\n",
    "            return 'Married PhD'\n",
    "        else:\n",
    "            return 'Others'\n",
    "    else:\n",
    "        return 'Others'\n",
    "phd_married = data.copy()\n",
    "phd_married['Changed_Marital_Status'] = phd_married.apply(change_marital_status, axis=1)"
   ]
  },
  {
   "cell_type": "code",
   "execution_count": null,
   "id": "bd206671",
   "metadata": {
    "execution": {
     "iopub.execute_input": "2022-02-25T22:15:19.096585Z",
     "iopub.status.busy": "2022-02-25T22:15:19.095886Z",
     "iopub.status.idle": "2022-02-25T22:15:19.328198Z",
     "shell.execute_reply": "2022-02-25T22:15:19.327456Z",
     "shell.execute_reply.started": "2021-12-13T22:07:35.353376Z"
    },
    "papermill": {
     "duration": 0.367792,
     "end_time": "2022-02-25T22:15:19.328355",
     "exception": false,
     "start_time": "2022-02-25T22:15:18.960563",
     "status": "completed"
    },
    "tags": []
   },
   "outputs": [],
   "source": [
    "fig = plt.figure(figsize=(15,10))\n",
    "\n",
    "sns.boxplot(x='Changed_Marital_Status', y='MntFishProducts', data=phd_married)\n",
    "plt.xlabel(\"\")\n",
    "\n",
    "plt.show()"
   ]
  },
  {
   "cell_type": "code",
   "execution_count": null,
   "id": "7228abed",
   "metadata": {
    "execution": {
     "iopub.execute_input": "2022-02-25T22:15:19.609355Z",
     "iopub.status.busy": "2022-02-25T22:15:19.608613Z",
     "iopub.status.idle": "2022-02-25T22:20:19.981101Z",
     "shell.execute_reply": "2022-02-25T22:20:19.981784Z",
     "shell.execute_reply.started": "2021-12-13T22:07:35.562645Z"
    },
    "papermill": {
     "duration": 300.51683,
     "end_time": "2022-02-25T22:20:19.982022",
     "exception": false,
     "start_time": "2022-02-25T22:15:19.465192",
     "status": "completed"
    },
    "tags": []
   },
   "outputs": [],
   "source": [
    "def get_dummy_cols(df):\n",
    "    categorical_df = df.select_dtypes(exclude='number')\n",
    "\n",
    "    dummy_df = pd.DataFrame()\n",
    "    for col in categorical_df.columns:\n",
    "        dummy = pd.get_dummies(categorical_df[col], prefix=col)\n",
    "        dummy_df = pd.concat([dummy_df, dummy], axis=1)\n",
    "\n",
    "    df = pd.concat([df, dummy_df], axis=1)\n",
    "    df.drop(categorical_df.columns, axis=1, inplace=True)\n",
    "    \n",
    "    return df\n",
    "phd_married_dummy = get_dummy_cols(phd_married)\n",
    "corr = phd_married_dummy.corr(method='kendall')\n",
    "\n",
    "kendall_corr = corr['MntFishProducts']['Changed_Marital_Status_Married PhD']\n",
    "p_value = calculate_pvalues(phd_married_dummy)['MntFishProducts']['Changed_Marital_Status_Married PhD']"
   ]
  },
  {
   "cell_type": "code",
   "execution_count": null,
   "id": "8dc0119c",
   "metadata": {
    "execution": {
     "iopub.execute_input": "2022-02-25T22:20:20.256723Z",
     "iopub.status.busy": "2022-02-25T22:20:20.255993Z",
     "iopub.status.idle": "2022-02-25T22:20:20.261630Z",
     "shell.execute_reply": "2022-02-25T22:20:20.262189Z",
     "shell.execute_reply.started": "2021-12-13T22:11:46.301947Z"
    },
    "papermill": {
     "duration": 0.144392,
     "end_time": "2022-02-25T22:20:20.262382",
     "exception": false,
     "start_time": "2022-02-25T22:20:20.117990",
     "status": "completed"
    },
    "tags": []
   },
   "outputs": [],
   "source": [
    "print(\"Kendall correlation: {}\".format(kendall_corr))\n",
    "print(\"Kendall p-value: {}\".format(p_value))"
   ]
  },
  {
   "cell_type": "markdown",
   "id": "a2464a19",
   "metadata": {
    "papermill": {
     "duration": 0.143096,
     "end_time": "2022-02-25T22:20:20.540934",
     "exception": false,
     "start_time": "2022-02-25T22:20:20.397838",
     "status": "completed"
    },
    "tags": []
   },
   "source": [
    "### Insights\n",
    "For `MntFishProducts` and those who are Married and have a PhD:\n",
    "- Kendall correlation: -0.077\n",
    "- Kendall p-value: 0.0038\n",
    "\n",
    "### Interpreting the results\n",
    "There's little to no correlation with those variables, meaning that whoever is married and has a PhD, we can't assume the number of fish products that customer is going to buy. With the p-value above, the relationship is statistically significant (p < 0.05) so this further supports our claim above.\n",
    "\n",
    "## What other factors are significantly related to amount spent on fish?\n",
    "\n",
    "### Distribution of MntFishProducts"
   ]
  },
  {
   "cell_type": "code",
   "execution_count": null,
   "id": "ba7339b4",
   "metadata": {
    "execution": {
     "iopub.execute_input": "2022-02-25T22:20:20.817905Z",
     "iopub.status.busy": "2022-02-25T22:20:20.817194Z",
     "iopub.status.idle": "2022-02-25T22:20:21.072890Z",
     "shell.execute_reply": "2022-02-25T22:20:21.073438Z",
     "shell.execute_reply.started": "2021-12-13T22:11:46.309243Z"
    },
    "papermill": {
     "duration": 0.395122,
     "end_time": "2022-02-25T22:20:21.073649",
     "exception": false,
     "start_time": "2022-02-25T22:20:20.678527",
     "status": "completed"
    },
    "tags": []
   },
   "outputs": [],
   "source": [
    "plt.figure(figsize=(10,5))\n",
    "sns.distplot(lr_df['MntFishProducts'], kde=False,hist=True, bins=12)\n",
    "plt.title(\"Amount of Fish Products Distribution\", size=15)\n",
    "plt.ylabel(\"Count\")\n",
    "\n",
    "plt.show()"
   ]
  },
  {
   "cell_type": "markdown",
   "id": "690faab6",
   "metadata": {
    "papermill": {
     "duration": 0.138542,
     "end_time": "2022-02-25T22:20:21.352184",
     "exception": false,
     "start_time": "2022-02-25T22:20:21.213642",
     "status": "completed"
    },
    "tags": []
   },
   "source": [
    "### Check for correlation between variables"
   ]
  },
  {
   "cell_type": "code",
   "execution_count": null,
   "id": "503547bb",
   "metadata": {
    "execution": {
     "iopub.execute_input": "2022-02-25T22:20:21.640805Z",
     "iopub.status.busy": "2022-02-25T22:20:21.640098Z",
     "iopub.status.idle": "2022-02-25T22:20:23.952595Z",
     "shell.execute_reply": "2022-02-25T22:20:23.953187Z",
     "shell.execute_reply.started": "2021-12-13T22:11:46.548977Z"
    },
    "papermill": {
     "duration": 2.459263,
     "end_time": "2022-02-25T22:20:23.953388",
     "exception": false,
     "start_time": "2022-02-25T22:20:21.494125",
     "status": "completed"
    },
    "tags": []
   },
   "outputs": [],
   "source": [
    "plt.figure(figsize=(20,10))                       \n",
    "                       \n",
    "corr = lr_df.drop('MntFishProducts', axis=1).corr()\n",
    "\n",
    "# Getting the Upper Triangle of the co-relation matrix\n",
    "matrix = np.triu(corr)\n",
    "ax = sns.heatmap(corr, annot=True, cmap='coolwarm', fmt='.2f', mask=matrix)\n",
    "for t in ax.texts:\n",
    "    if abs(float(t.get_text()))>=0.4:\n",
    "        t.set_text(t.get_text()) #if the value is greater than 0.4 or less than -0.4 then I set the text \n",
    "    else:\n",
    "        t.set_text(\"\") # if not it sets an empty text\n",
    "\n",
    "\n",
    "plt.show()\n",
    "# Do the independent variables need no correlation with each other? That's one of the assumptions when\n",
    "## performing a linear regression."
   ]
  },
  {
   "cell_type": "markdown",
   "id": "4729ba6d",
   "metadata": {
    "papermill": {
     "duration": 0.141236,
     "end_time": "2022-02-25T22:20:24.234598",
     "exception": false,
     "start_time": "2022-02-25T22:20:24.093362",
     "status": "completed"
    },
    "tags": []
   },
   "source": [
    "### Linear regression and permutation importance on `MntFishProducts`"
   ]
  },
  {
   "cell_type": "code",
   "execution_count": null,
   "id": "0aba9595",
   "metadata": {
    "execution": {
     "iopub.execute_input": "2022-02-25T22:20:24.520054Z",
     "iopub.status.busy": "2022-02-25T22:20:24.519124Z",
     "iopub.status.idle": "2022-02-25T22:20:24.522098Z",
     "shell.execute_reply": "2022-02-25T22:20:24.521525Z",
     "shell.execute_reply.started": "2021-12-13T22:11:48.529642Z"
    },
    "papermill": {
     "duration": 0.1471,
     "end_time": "2022-02-25T22:20:24.522253",
     "exception": false,
     "start_time": "2022-02-25T22:20:24.375153",
     "status": "completed"
    },
    "tags": []
   },
   "outputs": [],
   "source": [
    "# x = lr_df.values\n",
    "# standard_scaler = preprocessing.StandardScaler()\n",
    "# x_scaled = standard_scaler.fit_transform(x)\n",
    "\n",
    "# test_df = pd.DataFrame(x_scaled)\n",
    "# test_df.columns = lr_df.columns"
   ]
  },
  {
   "cell_type": "code",
   "execution_count": null,
   "id": "40924622",
   "metadata": {
    "execution": {
     "iopub.execute_input": "2022-02-25T22:20:24.807398Z",
     "iopub.status.busy": "2022-02-25T22:20:24.806416Z",
     "iopub.status.idle": "2022-02-25T22:20:24.809299Z",
     "shell.execute_reply": "2022-02-25T22:20:24.808622Z",
     "shell.execute_reply.started": "2021-12-13T22:11:48.534211Z"
    },
    "papermill": {
     "duration": 0.148549,
     "end_time": "2022-02-25T22:20:24.809457",
     "exception": false,
     "start_time": "2022-02-25T22:20:24.660908",
     "status": "completed"
    },
    "tags": []
   },
   "outputs": [],
   "source": [
    "# # Getting the features and target columns\n",
    "# all_features = test_df.drop('MntFishProducts',axis=1).columns\n",
    "# target = 'MntFishProducts'\n",
    "\n",
    "# # Splitting out train and test/validation set\n",
    "# x_train, x_test, y_train, y_test = train_test_split(test_df[all_features],\n",
    "#                                                     test_df[target], \n",
    "#                                                     test_size=0.3,\n",
    "#                                                     random_state=42)\n",
    "# lr = LinearRegression()\n",
    "\n",
    "# lr.fit(x_train, y_train)\n",
    "# test_predictions = lr.predict(x_test)\n",
    "# mse = mean_squared_error(y_test, test_predictions)\n",
    "# rmse = np.sqrt(mse)\n",
    "# score = lr.score(x_test, y_test)\n",
    "\n",
    "# print(f\"MSE: {mse}\")\n",
    "# print(f\"RMSE: {rmse}\")\n",
    "# print(f\"Score: {score}\")"
   ]
  },
  {
   "cell_type": "code",
   "execution_count": null,
   "id": "6113023f",
   "metadata": {
    "execution": {
     "iopub.execute_input": "2022-02-25T22:20:25.090945Z",
     "iopub.status.busy": "2022-02-25T22:20:25.089895Z",
     "iopub.status.idle": "2022-02-25T22:20:25.118770Z",
     "shell.execute_reply": "2022-02-25T22:20:25.120273Z",
     "shell.execute_reply.started": "2021-12-13T22:11:48.548422Z"
    },
    "papermill": {
     "duration": 0.171742,
     "end_time": "2022-02-25T22:20:25.120582",
     "exception": false,
     "start_time": "2022-02-25T22:20:24.948840",
     "status": "completed"
    },
    "tags": []
   },
   "outputs": [],
   "source": [
    "# Getting the features and target columns\n",
    "all_features = lr_df.drop('MntFishProducts',axis=1).columns\n",
    "target = 'MntFishProducts'\n",
    "\n",
    "# Splitting out train and test/validation set\n",
    "x_train, x_test, y_train, y_test = train_test_split(lr_df[all_features],\n",
    "                                                    lr_df[target], \n",
    "                                                    test_size=0.3,\n",
    "                                                    random_state=42)\n",
    "lr = LinearRegression()\n",
    "\n",
    "lr.fit(x_train, y_train)\n",
    "test_predictions = lr.predict(x_test)\n",
    "mse = mean_squared_error(y_test, test_predictions)\n",
    "rmse = np.sqrt(mse)\n",
    "score = lr.score(x_test, y_test)\n",
    "\n",
    "print(f\"MSE: {mse}\")\n",
    "print(f\"RMSE: {rmse}\")\n",
    "print(f\"Score: {score}\")"
   ]
  },
  {
   "cell_type": "code",
   "execution_count": null,
   "id": "de2b8d21",
   "metadata": {
    "execution": {
     "iopub.execute_input": "2022-02-25T22:20:25.470499Z",
     "iopub.status.busy": "2022-02-25T22:20:25.469754Z",
     "iopub.status.idle": "2022-02-25T22:20:26.336102Z",
     "shell.execute_reply": "2022-02-25T22:20:26.337282Z",
     "shell.execute_reply.started": "2021-12-13T22:11:48.584764Z"
    },
    "papermill": {
     "duration": 1.020726,
     "end_time": "2022-02-25T22:20:26.337608",
     "exception": false,
     "start_time": "2022-02-25T22:20:25.316882",
     "status": "completed"
    },
    "tags": []
   },
   "outputs": [],
   "source": [
    "def permutation(x_train, x_test, y_train, y_test):\n",
    "    \n",
    "    model = LinearRegression()\n",
    "    model.fit(x_train, y_train)\n",
    "    \n",
    "    permuter = PermutationImportance(\n",
    "        estimator = model, \n",
    "        scoring = 'r2', \n",
    "        n_iter = 5,\n",
    "        random_state = 42)\n",
    "    \n",
    "    permuter.fit(x_test, y_test)\n",
    "    \n",
    "    columns = x_test.columns.to_list()\n",
    "    feature_importance = permuter.feature_importances_\n",
    "    \n",
    "    results = eli5.show_weights(\n",
    "        estimator = permuter,\n",
    "        top = 6,\n",
    "        feature_names = columns\n",
    "    )\n",
    "    return results\n",
    "\n",
    "# Getting the feature importance from our model\n",
    "permutation(x_train, x_test, y_train, y_test)"
   ]
  },
  {
   "cell_type": "markdown",
   "id": "ec1bbf60",
   "metadata": {
    "papermill": {
     "duration": 0.140917,
     "end_time": "2022-02-25T22:20:26.670501",
     "exception": false,
     "start_time": "2022-02-25T22:20:26.529584",
     "status": "completed"
    },
    "tags": []
   },
   "source": [
    "### Insights\n",
    "Right number is the variance from the left number (decrease). You wouldn't use this explanation method by itself, this is a supplemental tool to provide evidence for your model.\n",
    "\n",
    "With performing the permutation importance above on our linear regression model, the following are our top 6 significant features for NumStorePurcahses:\n",
    "1. `TotalProducts`\n",
    "- `MntWines`\n",
    "- `MntMeatProducts`\n",
    "- `MntGoldProds`\n",
    "- `MntSweetProducts`\n",
    "- `MntFruits`\n",
    "\n",
    "### Interpreting the results\n",
    "The more products a customer has bought, the more likely they are to have bought fish products, wine and meat products being the most significant compared to the other products."
   ]
  },
  {
   "cell_type": "markdown",
   "id": "d394f047",
   "metadata": {
    "papermill": {
     "duration": 0.139813,
     "end_time": "2022-02-25T22:20:26.949979",
     "exception": false,
     "start_time": "2022-02-25T22:20:26.810166",
     "status": "completed"
    },
    "tags": []
   },
   "source": [
    "## Is there a significant relationship between geographical regional and success of a campaign?\n",
    "To do this, we'll perform a binary logistic regression. Let's first get an overview of the campaign acceptance %."
   ]
  },
  {
   "cell_type": "code",
   "execution_count": null,
   "id": "ae67e8fa",
   "metadata": {
    "execution": {
     "iopub.execute_input": "2022-02-25T22:20:27.241472Z",
     "iopub.status.busy": "2022-02-25T22:20:27.240750Z",
     "iopub.status.idle": "2022-02-25T22:20:27.733255Z",
     "shell.execute_reply": "2022-02-25T22:20:27.733784Z",
     "shell.execute_reply.started": "2021-12-13T22:11:49.29721Z"
    },
    "papermill": {
     "duration": 0.642191,
     "end_time": "2022-02-25T22:20:27.733989",
     "exception": false,
     "start_time": "2022-02-25T22:20:27.091798",
     "status": "completed"
    },
    "tags": []
   },
   "outputs": [],
   "source": [
    "cmp_cols = ['AcceptedCmp1','AcceptedCmp2', 'AcceptedCmp3', 'AcceptedCmp4', 'AcceptedCmp5', 'Response']\n",
    "\n",
    "def my_autopct(pct):\n",
    "    return ('%.2f%%' % pct) if pct < 20 else ''\n",
    "\n",
    "rows = 2\n",
    "cols = 3\n",
    "fig, axes = plt.subplots(rows,cols, figsize=(15,10))\n",
    "counter = 0 \n",
    "for i in range(rows):\n",
    "    for j in range(cols):\n",
    "        ax = axes[i][j]\n",
    "        ax.pie(x=data[cmp_cols[counter]].value_counts()/data.shape[0],\n",
    "               colors=['lightgrey','tab:green'],\n",
    "               autopct=my_autopct, pctdistance=1.3,\n",
    "               textprops={'fontsize': 12})\n",
    "        ax.set_title(\"{}\".format(cmp_cols[counter]), fontdict={'fontsize':15,'fontweight':'bold'})\n",
    "        \n",
    "        counter += 1\n",
    "\n",
    "plt.show()"
   ]
  },
  {
   "cell_type": "code",
   "execution_count": null,
   "id": "ce469b2b",
   "metadata": {
    "execution": {
     "iopub.execute_input": "2022-02-25T22:20:28.025900Z",
     "iopub.status.busy": "2022-02-25T22:20:28.024742Z",
     "iopub.status.idle": "2022-02-25T22:20:28.633844Z",
     "shell.execute_reply": "2022-02-25T22:20:28.633165Z",
     "shell.execute_reply.started": "2021-12-13T22:11:49.75842Z"
    },
    "papermill": {
     "duration": 0.760716,
     "end_time": "2022-02-25T22:20:28.634041",
     "exception": false,
     "start_time": "2022-02-25T22:20:27.873325",
     "status": "completed"
    },
    "tags": []
   },
   "outputs": [],
   "source": [
    "# Which country accepted the most campaigns?\n",
    "country_cols = ['Country_AUS', 'Country_CA','Country_GER', 'Country_IND', \n",
    "                'Country_ME', 'Country_SA', 'Country_SP', 'Country_US']\n",
    "\n",
    "cmp_melt_df = data.melt(id_vars='ID', value_vars=cmp_cols)\n",
    "final_melt_df = cmp_melt_df.merge(right=data[['ID','Country']], how='inner', left_on='ID', right_on='ID')\n",
    "final_df = final_melt_df.groupby(['variable','Country']).sum().reset_index()\n",
    "####\n",
    "plt.figure(figsize=(15,10))\n",
    "sns.barplot(x='variable', y='value', hue='Country', data=final_df)\n",
    "plt.title(\"People Who Accepted Each Campaign by Country\", size=16)\n",
    "\n",
    "plt.show()"
   ]
  },
  {
   "cell_type": "markdown",
   "id": "ba5f93d8",
   "metadata": {
    "papermill": {
     "duration": 0.14095,
     "end_time": "2022-02-25T22:20:28.918574",
     "exception": false,
     "start_time": "2022-02-25T22:20:28.777624",
     "status": "completed"
    },
    "tags": []
   },
   "source": [
    "### Insights\n",
    "We can see that the most people accepted the campaign in Spain, compared to any other country. South Africa and Canada (relatively similar acceptance rate) come in at 2nd and 3rd. \n",
    "\n",
    "But is this relationship statistically significant? We'll perform a Chi-Square test of independence for each country and campaign to find out. \n",
    "\n",
    "**Since we are trying to find the relationship between categorical variables (country and campaign acceptances), we'll perform a logistic regression.**\n",
    "\n",
    "### Chi-Square Test of Independence\n",
    "- Ho: There is no association between campaign acceptance and country. (They are independent)\n",
    "- Ha: There is an association between campaign acceptance and country. (They are not independent)\n",
    "\n",
    "With a significance level of alpha = 0.05.\n"
   ]
  },
  {
   "cell_type": "code",
   "execution_count": null,
   "id": "7d511c58",
   "metadata": {
    "execution": {
     "iopub.execute_input": "2022-02-25T22:20:29.211196Z",
     "iopub.status.busy": "2022-02-25T22:20:29.210270Z",
     "iopub.status.idle": "2022-02-25T22:20:29.213901Z",
     "shell.execute_reply": "2022-02-25T22:20:29.213327Z",
     "shell.execute_reply.started": "2021-12-13T22:11:50.300629Z"
    },
    "papermill": {
     "duration": 0.154022,
     "end_time": "2022-02-25T22:20:29.214094",
     "exception": false,
     "start_time": "2022-02-25T22:20:29.060072",
     "status": "completed"
    },
    "tags": []
   },
   "outputs": [],
   "source": [
    "test = data[['Country', 'AcceptedCmp1','AcceptedCmp2', 'AcceptedCmp3', 'AcceptedCmp4', 'AcceptedCmp5', 'Response']]\n",
    "\n",
    "a = test.groupby('Country').sum()"
   ]
  },
  {
   "cell_type": "code",
   "execution_count": null,
   "id": "1af837cb",
   "metadata": {
    "execution": {
     "iopub.execute_input": "2022-02-25T22:20:29.507294Z",
     "iopub.status.busy": "2022-02-25T22:20:29.506586Z",
     "iopub.status.idle": "2022-02-25T22:20:29.530595Z",
     "shell.execute_reply": "2022-02-25T22:20:29.531204Z",
     "shell.execute_reply.started": "2021-12-13T22:11:50.311383Z"
    },
    "papermill": {
     "duration": 0.173367,
     "end_time": "2022-02-25T22:20:29.531401",
     "exception": false,
     "start_time": "2022-02-25T22:20:29.358034",
     "status": "completed"
    },
    "tags": []
   },
   "outputs": [],
   "source": [
    "# By country, how many people did not accept the campaigns?\n",
    "cmp_cols = ['AcceptedCmp1','AcceptedCmp2', 'AcceptedCmp3', 'AcceptedCmp4', 'AcceptedCmp5', 'Response']\n",
    "not_acc_dict = {}\n",
    "for c in test['Country'].unique():\n",
    "    country = test[test['Country'] == c]\n",
    "    country_dict = {}\n",
    "    for col in cmp_cols:\n",
    "        country_dict[col] = (country[col] == 0).sum()\n",
    "    not_acc_dict[c] = country_dict\n",
    "    \n",
    "n_acc_cmp = pd.DataFrame.from_dict(not_acc_dict, orient='index').sort_index().add_prefix('N_') "
   ]
  },
  {
   "cell_type": "code",
   "execution_count": null,
   "id": "8ed63a9d",
   "metadata": {
    "execution": {
     "iopub.execute_input": "2022-02-25T22:20:29.823903Z",
     "iopub.status.busy": "2022-02-25T22:20:29.818264Z",
     "iopub.status.idle": "2022-02-25T22:20:29.862060Z",
     "shell.execute_reply": "2022-02-25T22:20:29.862617Z",
     "shell.execute_reply.started": "2021-12-13T22:11:50.348154Z"
    },
    "papermill": {
     "duration": 0.189049,
     "end_time": "2022-02-25T22:20:29.862809",
     "exception": false,
     "start_time": "2022-02-25T22:20:29.673760",
     "status": "completed"
    },
    "tags": []
   },
   "outputs": [],
   "source": [
    "from scipy.stats import chisquare\n",
    "\n",
    "chisq_cmp = {}\n",
    "for ix, col in enumerate(a.columns):\n",
    "    y_ser = a[col]\n",
    "    n_ser = n_acc_cmp[n_acc_cmp.columns[ix]]\n",
    "    \n",
    "    # Combining the accepted counts with not accepted counts\n",
    "    country = pd.concat([y_ser, n_ser], axis=1)\n",
    "    observed = country.copy()\n",
    "    \n",
    "    # Getting the row totals for our contigency table\n",
    "    country['row_totals'] = country.sum(axis=1)\n",
    "    # Getting the column totals\n",
    "    country = country.append(country.sum().rename('col_totals'))\n",
    "    \n",
    "    # Calculating the expected values for each cell\n",
    "    expected = np.outer(country['row_totals'][0:8],\n",
    "                        country.loc['col_totals'][0:2]) / 2212\n",
    "    expected = pd.DataFrame(expected,\n",
    "                            index=['AUS', 'CA', 'GER', 'IND', 'ME', 'SA', 'SP', 'US'],\n",
    "                            columns=[col, n_acc_cmp.columns[ix]])\n",
    "    \n",
    "    # Perform chisquare stat test\n",
    "    chisq, p = chisquare(observed, expected)\n",
    "    chisq_cmp[col] = chisq, p\n"
   ]
  },
  {
   "cell_type": "code",
   "execution_count": null,
   "id": "c35ea4d8",
   "metadata": {
    "execution": {
     "iopub.execute_input": "2022-02-25T22:20:30.149383Z",
     "iopub.status.busy": "2022-02-25T22:20:30.148709Z",
     "iopub.status.idle": "2022-02-25T22:20:30.156508Z",
     "shell.execute_reply": "2022-02-25T22:20:30.157114Z",
     "shell.execute_reply.started": "2021-12-13T22:11:50.38999Z"
    },
    "papermill": {
     "duration": 0.152711,
     "end_time": "2022-02-25T22:20:30.157293",
     "exception": false,
     "start_time": "2022-02-25T22:20:30.004582",
     "status": "completed"
    },
    "tags": []
   },
   "outputs": [],
   "source": [
    "chisq_cmp"
   ]
  },
  {
   "cell_type": "code",
   "execution_count": null,
   "id": "e96b2597",
   "metadata": {
    "execution": {
     "iopub.execute_input": "2022-02-25T22:20:30.447203Z",
     "iopub.status.busy": "2022-02-25T22:20:30.446509Z",
     "iopub.status.idle": "2022-02-25T22:20:30.462669Z",
     "shell.execute_reply": "2022-02-25T22:20:30.463251Z",
     "shell.execute_reply.started": "2021-12-13T22:11:50.399658Z"
    },
    "papermill": {
     "duration": 0.164284,
     "end_time": "2022-02-25T22:20:30.463447",
     "exception": false,
     "start_time": "2022-02-25T22:20:30.299163",
     "status": "completed"
    },
    "tags": []
   },
   "outputs": [],
   "source": [
    "from scipy.stats import chi2_contingency\n",
    "\n",
    "chisq_cmp = {}\n",
    "\n",
    "for ix, col in enumerate(a.columns):\n",
    "    y_ser = a[col]\n",
    "    n_ser = n_acc_cmp[n_acc_cmp.columns[ix]]\n",
    "    \n",
    "    # Combining the accepted counts with not accepted counts\n",
    "    country = pd.concat([y_ser, n_ser], axis=1)\n",
    "    observed = country.copy()\n",
    "    chi2, p, dof, expected = chi2_contingency(observed=observed)\n",
    "    \n",
    "    chisq_cmp[col] = {'chi_squared': chi2, 'p_value':p} "
   ]
  },
  {
   "cell_type": "code",
   "execution_count": null,
   "id": "4458526e",
   "metadata": {
    "execution": {
     "iopub.execute_input": "2022-02-25T22:20:30.750201Z",
     "iopub.status.busy": "2022-02-25T22:20:30.748856Z",
     "iopub.status.idle": "2022-02-25T22:20:30.764495Z",
     "shell.execute_reply": "2022-02-25T22:20:30.765177Z",
     "shell.execute_reply.started": "2021-12-13T22:11:50.421033Z"
    },
    "papermill": {
     "duration": 0.160135,
     "end_time": "2022-02-25T22:20:30.765364",
     "exception": false,
     "start_time": "2022-02-25T22:20:30.605229",
     "status": "completed"
    },
    "tags": []
   },
   "outputs": [],
   "source": [
    "pd.DataFrame(chisq_cmp)"
   ]
  },
  {
   "cell_type": "markdown",
   "id": "756c9cd7",
   "metadata": {
    "papermill": {
     "duration": 0.141898,
     "end_time": "2022-02-25T22:20:31.048604",
     "exception": false,
     "start_time": "2022-02-25T22:20:30.906706",
     "status": "completed"
    },
    "tags": []
   },
   "source": [
    "### Insights\n",
    "\n",
    "According to the chi-square test of independence above, all p-values of the campaigns are above our significance level (alpha = 0.05), so we can say that there is no association between country and campaign (fail to reject our null hypothesis). \n",
    "\n",
    "### Logistic Regression with Each Marketing Campaign\n",
    "\n",
    "Assumptions about logistic regression:\n",
    "1. Binary logistic regression requires the dependent variable to be binary (Campaign acceptance)\n",
    "2. Requires the observations to be independent of one another\n",
    "3. Requires there to be little to no multicollinearity among the independent variables (Country)\n",
    "4. Assumes linearity of independent variables and log odds\n",
    "5. Requires a large sample size (General guideline is that you need at least 10 outcomes for each independent variable)\n",
    "\n",
    "Steps to do so:\n",
    "1. Dummy cols for country\n",
    "2. Point Biserial correlation coefficient?\n",
    "3. Perform logistic regression on each campaign\n",
    "4. Display confusion matrix"
   ]
  },
  {
   "cell_type": "code",
   "execution_count": null,
   "id": "f743a871",
   "metadata": {
    "execution": {
     "iopub.execute_input": "2022-02-25T22:20:31.337914Z",
     "iopub.status.busy": "2022-02-25T22:20:31.336866Z",
     "iopub.status.idle": "2022-02-25T22:20:31.364864Z",
     "shell.execute_reply": "2022-02-25T22:20:31.365427Z",
     "shell.execute_reply.started": "2021-12-13T22:11:50.435179Z"
    },
    "papermill": {
     "duration": 0.174469,
     "end_time": "2022-02-25T22:20:31.365627",
     "exception": false,
     "start_time": "2022-02-25T22:20:31.191158",
     "status": "completed"
    },
    "tags": []
   },
   "outputs": [],
   "source": [
    "country_dummy = get_dummy_cols(data)[['Country_AUS', 'Country_CA', 'Country_GER', 'Country_IND', 'Country_ME',\n",
    "                                      'Country_SA','Country_SP', 'Country_US']]"
   ]
  },
  {
   "cell_type": "code",
   "execution_count": null,
   "id": "600bc268",
   "metadata": {
    "execution": {
     "iopub.execute_input": "2022-02-25T22:20:31.656854Z",
     "iopub.status.busy": "2022-02-25T22:20:31.655847Z",
     "iopub.status.idle": "2022-02-25T22:20:31.660645Z",
     "shell.execute_reply": "2022-02-25T22:20:31.661203Z",
     "shell.execute_reply.started": "2021-12-13T22:11:50.469847Z"
    },
    "papermill": {
     "duration": 0.151308,
     "end_time": "2022-02-25T22:20:31.661389",
     "exception": false,
     "start_time": "2022-02-25T22:20:31.510081",
     "status": "completed"
    },
    "tags": []
   },
   "outputs": [],
   "source": [
    "campaign_data = data[cmp_cols]"
   ]
  },
  {
   "cell_type": "markdown",
   "id": "b2749127",
   "metadata": {
    "papermill": {
     "duration": 0.143057,
     "end_time": "2022-02-25T22:20:31.946222",
     "exception": false,
     "start_time": "2022-02-25T22:20:31.803165",
     "status": "completed"
    },
    "tags": []
   },
   "source": [
    "Model performance metrics for binary logistic regression:\n",
    "- Accuracy\n",
    "    - Total True Positive + Total True Negative / Total Predicted\n",
    "- Precision\n",
    "    - True Positive / Total Predicted Positive\n",
    "    - Talks about how precise/accurate your model is out of those predicted positive, how many of them are actual positive. Precision is a good measure to determine, when the costs of False Positive is high. \n",
    "- Recall\n",
    "    - True Positive / Total Actual Positive\n",
    "    - Calculates how many of the Actual Positives our model capture through labeling it as Positive (True Positive). Applying the same understanding, we know that Recall shall be the model metric we use to select our best model when there is a high cost associated with False Negative."
   ]
  },
  {
   "cell_type": "code",
   "execution_count": null,
   "id": "645c5a9f",
   "metadata": {
    "execution": {
     "iopub.execute_input": "2022-02-25T22:20:32.234457Z",
     "iopub.status.busy": "2022-02-25T22:20:32.233299Z",
     "iopub.status.idle": "2022-02-25T22:20:34.574326Z",
     "shell.execute_reply": "2022-02-25T22:20:34.573689Z",
     "shell.execute_reply.started": "2021-12-13T22:11:50.477345Z"
    },
    "papermill": {
     "duration": 2.486255,
     "end_time": "2022-02-25T22:20:34.574484",
     "exception": false,
     "start_time": "2022-02-25T22:20:32.088229",
     "status": "completed"
    },
    "tags": []
   },
   "outputs": [],
   "source": [
    "from sklearn.linear_model import LogisticRegression\n",
    "from sklearn.metrics import confusion_matrix\n",
    "from sklearn import metrics\n",
    "\n",
    "for col in campaign_data.columns:\n",
    "    x_train, x_test, y_train, y_test = train_test_split(country_dummy,\n",
    "                                                        campaign_data[col], \n",
    "                                                        test_size=0.3,\n",
    "                                                        random_state=42)\n",
    "\n",
    "    LogReg = LogisticRegression()\n",
    "\n",
    "    LogReg.fit(x_train, y_train)\n",
    "    test_predictions = LogReg.predict(x_test)\n",
    "    test_proba = LogReg.predict_proba(x_test)\n",
    "    c_matrix = confusion_matrix(y_test, test_predictions)\n",
    "    \n",
    "    # Plotting the confusion matrix\n",
    "    class_names=[0,1] # name  of classes\n",
    "    fig, ax = plt.subplots()\n",
    "    tick_marks = np.arange(len(class_names))\n",
    "    plt.xticks(tick_marks, class_names)\n",
    "    plt.yticks(tick_marks, class_names)\n",
    "    # create heatmap\n",
    "    sns.heatmap(pd.DataFrame(c_matrix), annot=True, cmap=\"YlGnBu\" ,fmt='g')\n",
    "    ax.xaxis.set_label_position(\"top\")\n",
    "    plt.tight_layout()\n",
    "    plt.title(f'Confusion matrix for {col}', y=1.1)\n",
    "    plt.ylabel('Actual label')\n",
    "    plt.xlabel('Predicted label')\n",
    "#     print(\"Accuracy:\",metrics.accuracy_score(y_test, test_predictions))\n",
    "#     print(\"Precision:\",metrics.precision_score(y_test, test_predictions))\n",
    "#     print(\"Recall:\",metrics.recall_score(y_test, test_predictions))"
   ]
  },
  {
   "cell_type": "markdown",
   "id": "07b1c748",
   "metadata": {
    "papermill": {
     "duration": 0.148428,
     "end_time": "2022-02-25T22:20:34.873301",
     "exception": false,
     "start_time": "2022-02-25T22:20:34.724873",
     "status": "completed"
    },
    "tags": []
   },
   "source": [
    "### Insights\n",
    "\n",
    "This logistic regression model is not good at detecting Actual positives (people who accepted the campaign), thus our recall score being very low. \n",
    "\n",
    "We want to focus on the recall score to assess the performance of this model because we want to capture the people who accept the campaign (true positives)."
   ]
  },
  {
   "cell_type": "markdown",
   "id": "467b2a6e",
   "metadata": {
    "papermill": {
     "duration": 0.149801,
     "end_time": "2022-02-25T22:20:35.172910",
     "exception": false,
     "start_time": "2022-02-25T22:20:35.023109",
     "status": "completed"
    },
    "tags": []
   },
   "source": [
    "### Using stasmodels.glm"
   ]
  },
  {
   "cell_type": "code",
   "execution_count": null,
   "id": "f42b1a06",
   "metadata": {
    "execution": {
     "iopub.execute_input": "2022-02-25T22:20:35.476606Z",
     "iopub.status.busy": "2022-02-25T22:20:35.472076Z",
     "iopub.status.idle": "2022-02-25T22:20:35.823000Z",
     "shell.execute_reply": "2022-02-25T22:20:35.824895Z",
     "shell.execute_reply.started": "2021-12-13T22:11:52.259812Z"
    },
    "papermill": {
     "duration": 0.5043,
     "end_time": "2022-02-25T22:20:35.825300",
     "exception": false,
     "start_time": "2022-02-25T22:20:35.321000",
     "status": "completed"
    },
    "tags": []
   },
   "outputs": [],
   "source": [
    "from scipy import stats\n",
    "\n",
    "pvalue_results = []\n",
    "for col in campaign_data.columns:\n",
    "    y = campaign_data[col]\n",
    "    model = sm.GLM(y, country_dummy, family=sm.families.Binomial())\n",
    "    model_results = model.fit()\n",
    "    chi_sq = model_results.pearson_chi2\n",
    "    p_values = stats.distributions.chi2.sf(chisq , 7)\n",
    "    pvalue_results.append(p_values)\n",
    "    print(col)\n",
    "    print(model_results.summary())\n",
    "    print('\\n')\n",
    "    # What do these results mean?\n",
    "print(pvalue_results)"
   ]
  },
  {
   "cell_type": "markdown",
   "id": "b5729f32",
   "metadata": {
    "papermill": {
     "duration": 0.149279,
     "end_time": "2022-02-25T22:20:36.170853",
     "exception": false,
     "start_time": "2022-02-25T22:20:36.021574",
     "status": "completed"
    },
    "tags": []
   },
   "source": [
    "### Insights\n",
    "\n",
    "### Interpreting all the results"
   ]
  },
  {
   "cell_type": "markdown",
   "id": "9bd0625a",
   "metadata": {
    "papermill": {
     "duration": 0.150033,
     "end_time": "2022-02-25T22:20:36.471138",
     "exception": false,
     "start_time": "2022-02-25T22:20:36.321105",
     "status": "completed"
    },
    "tags": []
   },
   "source": [
    "### Logit attempt"
   ]
  },
  {
   "cell_type": "code",
   "execution_count": null,
   "id": "5a3533f2",
   "metadata": {
    "execution": {
     "iopub.execute_input": "2022-02-25T22:20:36.837293Z",
     "iopub.status.busy": "2022-02-25T22:20:36.836442Z",
     "iopub.status.idle": "2022-02-25T22:20:36.839377Z",
     "shell.execute_reply": "2022-02-25T22:20:36.838767Z",
     "shell.execute_reply.started": "2021-12-13T22:11:52.563616Z"
    },
    "papermill": {
     "duration": 0.157128,
     "end_time": "2022-02-25T22:20:36.839533",
     "exception": false,
     "start_time": "2022-02-25T22:20:36.682405",
     "status": "completed"
    },
    "tags": []
   },
   "outputs": [],
   "source": [
    "# for col in campaign_data.columns:\n",
    "#     y = campaign_data[col]\n",
    "#     logit_model = sm.Logit(y, country_dummy)\n",
    "#     result=logit_model.fit()\n",
    "#     print(col)\n",
    "#     print(result.summary2())"
   ]
  },
  {
   "cell_type": "markdown",
   "id": "abca9213",
   "metadata": {
    "papermill": {
     "duration": 0.148767,
     "end_time": "2022-02-25T22:20:37.137063",
     "exception": false,
     "start_time": "2022-02-25T22:20:36.988296",
     "status": "completed"
    },
    "tags": []
   },
   "source": [
    "# 3. Data Visualizations\n",
    "\n",
    "Here, we'll be creating additional visualizations to gain further insight.\n",
    "\n",
    "**Questions we'll be answering:**\n",
    "\n",
    "- Which marketing campaign is most successful?\n",
    "- What does the average customer look like for this company?\n",
    "- Which products are performing best?\n",
    "- Which channels are underperforming?\n",
    "\n",
    "Questions to answer:\n",
    "- The highest selling product\n",
    "- The most successful marketing campaign. Narrow down in each country\n",
    "- Most popular purchase site (web, catalog, store)\n",
    "- What kind of purchases are being made with discounts?\n",
    "- How many complaints?\n",
    "- Understand the demographics of the customers. \n",
    "    - Where are they from?\n",
    "    - What income class?\n",
    "    - Marital Status?\n",
    "    - How many people have 1 kid? 2 kids?\n",
    "    \n",
    "    \n",
    "- Low income = <\\$40,000\n",
    "- Middle class = $40,000 - 120,000\n",
    "- Upper = >120,000"
   ]
  },
  {
   "cell_type": "code",
   "execution_count": null,
   "id": "75b06e64",
   "metadata": {
    "execution": {
     "iopub.execute_input": "2022-02-25T22:20:37.437635Z",
     "iopub.status.busy": "2022-02-25T22:20:37.436868Z",
     "iopub.status.idle": "2022-02-25T22:20:37.623782Z",
     "shell.execute_reply": "2022-02-25T22:20:37.623108Z",
     "shell.execute_reply.started": "2021-12-13T22:11:52.569886Z"
    },
    "papermill": {
     "duration": 0.338167,
     "end_time": "2022-02-25T22:20:37.623939",
     "exception": false,
     "start_time": "2022-02-25T22:20:37.285772",
     "status": "completed"
    },
    "tags": []
   },
   "outputs": [],
   "source": [
    "product_cols = ['MntWines', 'MntFruits','MntMeatProducts', 'MntFishProducts', 'MntSweetProducts','MntGoldProds']\n",
    "\n",
    "fig = plt.figure(figsize=(15,5))\n",
    "colors = ['tab:brown','tab:orange','tab:red','tab:blue','tab:purple','tab:green']\n",
    "plt.bar(x=product_cols,\n",
    "        height=data[product_cols].sum(),\n",
    "        color=colors)\n",
    "plt.title(\"Total Amount Ordered in the Last 2 Years\", fontdict={'fontsize':15,'fontweight':'bold'})\n",
    "plt.ylabel(\"Quantity\")\n",
    "\n",
    "plt.show()"
   ]
  },
  {
   "cell_type": "code",
   "execution_count": null,
   "id": "d4498e3b",
   "metadata": {
    "execution": {
     "iopub.execute_input": "2022-02-25T22:20:37.936995Z",
     "iopub.status.busy": "2022-02-25T22:20:37.933723Z",
     "iopub.status.idle": "2022-02-25T22:20:37.940925Z",
     "shell.execute_reply": "2022-02-25T22:20:37.941499Z",
     "shell.execute_reply.started": "2021-12-13T22:11:52.773084Z"
    },
    "papermill": {
     "duration": 0.165958,
     "end_time": "2022-02-25T22:20:37.941680",
     "exception": false,
     "start_time": "2022-02-25T22:20:37.775722",
     "status": "completed"
    },
    "tags": []
   },
   "outputs": [],
   "source": [
    "campaign_cols = ['AcceptedCmp1', 'AcceptedCmp2', 'AcceptedCmp3', 'AcceptedCmp4', 'AcceptedCmp5', 'Response']\n",
    "for col in campaign_cols:\n",
    "    print(data[col].value_counts())"
   ]
  },
  {
   "cell_type": "code",
   "execution_count": null,
   "id": "d2f9746a",
   "metadata": {
    "execution": {
     "iopub.execute_input": "2022-02-25T22:20:38.264294Z",
     "iopub.status.busy": "2022-02-25T22:20:38.244273Z",
     "iopub.status.idle": "2022-02-25T22:20:38.471668Z",
     "shell.execute_reply": "2022-02-25T22:20:38.470975Z",
     "shell.execute_reply.started": "2021-12-13T22:11:52.787464Z"
    },
    "papermill": {
     "duration": 0.380518,
     "end_time": "2022-02-25T22:20:38.471831",
     "exception": false,
     "start_time": "2022-02-25T22:20:38.091313",
     "status": "completed"
    },
    "tags": []
   },
   "outputs": [],
   "source": [
    "campaign_cols = ['AcceptedCmp1', 'AcceptedCmp2', 'AcceptedCmp3', 'AcceptedCmp4', 'AcceptedCmp5', 'Response']\n",
    "fig = plt.figure(figsize=(15,5))\n",
    "plt.bar(x=campaign_cols,\n",
    "        height=data[campaign_cols].sum())\n",
    "\n",
    "plt.title(\"How many people accepted each campaign?\", fontdict={'fontsize':15,'fontweight':'bold'})\n",
    "\n",
    "plt.show()"
   ]
  },
  {
   "cell_type": "code",
   "execution_count": null,
   "id": "c9e1cd7c",
   "metadata": {
    "execution": {
     "iopub.execute_input": "2022-02-25T22:20:38.781786Z",
     "iopub.status.busy": "2022-02-25T22:20:38.781099Z",
     "iopub.status.idle": "2022-02-25T22:20:38.978111Z",
     "shell.execute_reply": "2022-02-25T22:20:38.978738Z",
     "shell.execute_reply.started": "2021-12-13T22:11:52.960103Z"
    },
    "papermill": {
     "duration": 0.354338,
     "end_time": "2022-02-25T22:20:38.978919",
     "exception": false,
     "start_time": "2022-02-25T22:20:38.624581",
     "status": "completed"
    },
    "tags": []
   },
   "outputs": [],
   "source": [
    "fig = plt.figure(figsize=(10,5))\n",
    "\n",
    "plt.bar(x=['NumWebPurchases','NumCatalogPurchases', 'NumStorePurchases'],\n",
    "        height=data[['NumWebPurchases','NumCatalogPurchases', 'NumStorePurchases']].sum(),)\n",
    "plt.title(\"Total Number of Purchases in Each Site\", fontdict={'fontsize':15,'fontweight':'bold'})\n",
    "plt.show()"
   ]
  },
  {
   "cell_type": "code",
   "execution_count": null,
   "id": "f3bc4a86",
   "metadata": {
    "execution": {
     "iopub.execute_input": "2022-02-25T22:20:39.285011Z",
     "iopub.status.busy": "2022-02-25T22:20:39.284322Z",
     "iopub.status.idle": "2022-02-25T22:20:39.289577Z",
     "shell.execute_reply": "2022-02-25T22:20:39.290260Z",
     "shell.execute_reply.started": "2021-12-13T22:11:53.139437Z"
    },
    "papermill": {
     "duration": 0.160054,
     "end_time": "2022-02-25T22:20:39.290448",
     "exception": false,
     "start_time": "2022-02-25T22:20:39.130394",
     "status": "completed"
    },
    "tags": []
   },
   "outputs": [],
   "source": [
    "print(\"Total Website Visits Last Month: {}\".format(data['NumWebVisitsMonth'].sum()))"
   ]
  },
  {
   "cell_type": "code",
   "execution_count": null,
   "id": "e0be4e0b",
   "metadata": {
    "execution": {
     "iopub.execute_input": "2022-02-25T22:20:39.601460Z",
     "iopub.status.busy": "2022-02-25T22:20:39.600584Z",
     "iopub.status.idle": "2022-02-25T22:20:39.604212Z",
     "shell.execute_reply": "2022-02-25T22:20:39.604747Z",
     "shell.execute_reply.started": "2021-12-13T22:11:53.146002Z"
    },
    "papermill": {
     "duration": 0.162849,
     "end_time": "2022-02-25T22:20:39.604947",
     "exception": false,
     "start_time": "2022-02-25T22:20:39.442098",
     "status": "completed"
    },
    "tags": []
   },
   "outputs": [],
   "source": [
    "data['Income_class'] = np.where(data['Income']<40000, 'Low',\n",
    "                                np.where(data['Income'].between(40000,120000,inclusive='right'), 'Middle', \n",
    "                                         'Upper'))\n"
   ]
  },
  {
   "cell_type": "code",
   "execution_count": null,
   "id": "b6418f8e",
   "metadata": {
    "execution": {
     "iopub.execute_input": "2022-02-25T22:20:39.911246Z",
     "iopub.status.busy": "2022-02-25T22:20:39.910527Z",
     "iopub.status.idle": "2022-02-25T22:20:40.911063Z",
     "shell.execute_reply": "2022-02-25T22:20:40.910346Z",
     "shell.execute_reply.started": "2021-12-13T22:11:53.159887Z"
    },
    "papermill": {
     "duration": 1.154265,
     "end_time": "2022-02-25T22:20:40.911213",
     "exception": false,
     "start_time": "2022-02-25T22:20:39.756948",
     "status": "completed"
    },
    "tags": []
   },
   "outputs": [],
   "source": [
    "product_cols = ['MntWines', 'MntFruits','MntMeatProducts', 'MntFishProducts', 'MntSweetProducts','MntGoldProds']\n",
    "\n",
    "num_low_customers = data[data['Income_class'] == \"Low\"].shape[0]\n",
    "num_mid_customers = data[data['Income_class'] == \"Middle\"].shape[0]\n",
    "num_upp_customers = data[data['Income_class'] == \"Upper\"].shape[0]\n",
    "\n",
    "tidy = data.melt(id_vars='Income_class', \n",
    "                 value_vars=product_cols,\n",
    "                 value_name='Qty').groupby(['Income_class','variable']).sum().reset_index()\n",
    "\n",
    "\n",
    "low = tidy[tidy['Income_class']=='Low']\n",
    "middle = tidy[tidy['Income_class']=='Middle']\n",
    "upper = tidy[tidy['Income_class']=='Upper'] \n",
    "\n",
    "low['Average_qty'] = low['Qty'] / num_low_customers\n",
    "middle['Average_qty'] = middle['Qty'] / num_mid_customers\n",
    "upper['Average_qty'] = upper['Qty'] / num_upp_customers\n",
    "\n",
    "\n",
    "p1 = sns.catplot(x='variable', y='Average_qty', row='Income_class', \n",
    "                 data=low,\n",
    "                 kind='bar',\n",
    "                 height=3, aspect=3)\n",
    "p2 = sns.catplot(x='variable', y='Average_qty', row='Income_class', \n",
    "                 data=middle,\n",
    "                 kind='bar',\n",
    "                 height=3, aspect=3)\n",
    "p3 = sns.catplot(x='variable', y='Average_qty', row='Income_class', \n",
    "                 data=upper,\n",
    "                 kind='bar',\n",
    "                 height=3, aspect=3)\n",
    "\n",
    "p1.set(xlabel=None, title=\"Lower Class: Average Total Quantity Ordered\")\n",
    "p2.set(xlabel=None, title=\"Middle Class: Average Total Quantity Ordered\")\n",
    "p3.set(xlabel=None, title=\"Upper Class: Average Total Quantity Ordered\")\n",
    "\n",
    "plt.show()"
   ]
  },
  {
   "cell_type": "markdown",
   "id": "aad3d80c",
   "metadata": {
    "papermill": {
     "duration": 0.161931,
     "end_time": "2022-02-25T22:20:41.228315",
     "exception": false,
     "start_time": "2022-02-25T22:20:41.066384",
     "status": "completed"
    },
    "tags": []
   },
   "source": [
    "### Insights\n",
    "The bar graphs above tell us the average total quantity ordered based on the product grouped by each income class (lower, middle, upper). The amount of customers in each income class also vary. The sample size for each are small since we are working with only 2,212 customers.\n",
    "\n",
    "**Note that the y-axis scale differs between each graph.**\n",
    "\n",
    "- We can say that people order meat and wine products the most.\n",
    "\n",
    "\n",
    "# Conclusion\n",
    "\n",
    "Let's recall the overall goal of this analysis.\n",
    "\n",
    "You're a marketing analyst and you've been told by the CMO that recent marketing campaigns have not been as effective as they were expected to be. You need to analyze the dataset to understand this problem and propose data-driven solutions.\n",
    "\n",
    "### Questions we answered and recommendations:\n",
    "\n",
    "- What factors are significantly related to the number of store purchases?\n",
    "    - **Result**: The total amount of products bought, number of website visits, number of meat products, the number of website purchases, and the income were the top 5 significant features related to the number of in store purchases.\n",
    "    - **Recommendation**: To increase the number of in store purchases, we must find ways to attract more people to our website. This can mean a better UI/UX and/or more outreach online. On top of that, since income was one of the significant features, we can further analyze what products each income class bought and improve our strategy on selling those specific products to our target demographic.\n",
    "- Does US fare significantly better than the Rest of the World in terms of total purchases? (NOT SURE WHAT THIS MEANS)\n",
    "    - **Result**: US was 7th out of 8th in terms of total purchases.\n",
    "    - **Recommendation**: With a goal of increasing US sales, further analyze the US market. What kind of products are people in the US buying? Are they buying on the website? Catalog? In store? \n",
    "- Your supervisor insists that people who buy gold are more conservative. Therefore, people who spent an above average amount on gold in the last 2 years would have more in store purchases. Justify or refute this statement using an appropriate statistical test.\n",
    "    - **Result**: The relationship between the amount of gold products bought and number of in store purchases had a correlation of 0.39 (slight positive correlation) and a p-value of 1.41e-81 (statistically significant). This means that the more gold products a customer bought, the more in store purchases they made as well, (not causation), therefore, refuting our supervisor's statement of gold buyers are more conservative.\n",
    "    - **Recommendation**: If our goal was to sell more gold products, we must funnel these customers who like gold to purchase in store, versus the other channels of our catalog and website. Once we do that, we can maybe find complements with gold and do the same for those products.\n",
    "- Fish has Omega 3 fatty acids which are good for the brain. Accordingly, do \"Married PhD candidates\" have a significant relation with amount spent on fish? What other factors are significantly related to amount spent on fish? (Hint: use your knowledge of interaction variables/effects)\n",
    "    - **Result**: The relationship between the amount of fish products bought and those who are married and have a PhD had a correlation of -0.077 (weak negative correlation to none) and a p-value of 0.0038 (statistically significant). The other factors that are significantly related to fish products are total products bought, amount of wine, meat, gold, sweet, and fruit products bought.\n",
    "    - **Recommendation**: Since the variance increases the most when wine and meat products are removed from our linear regression model the most compared to the other products, we can further analyze what channels in which people are buying these products and improve our sales in these products. OR focus our efforts in selling the other products.\n",
    "- Is there a significant relationship between geographical regional and success of a campaign?\n",
    "    - **Result**:\n",
    "    - **Recommendation**:\n",
    "\n",
    "#### Other recommendations\n",
    "- The most recent campaign was the most successful, so we can further investigate what attributes of this campaign made it successful, understand where people are accepting it, etc, and apply it to future campaigns\n",
    "- In store purchases were the top performing channel, so we can find other ways to improve the 2 others (website purchases and catalog purchases)."
   ]
  },
  {
   "cell_type": "markdown",
   "id": "71d0ccf2",
   "metadata": {},
   "source": [
    "# New"
   ]
  },
  {
   "cell_type": "code",
   "execution_count": null,
   "id": "94030ad5",
   "metadata": {},
   "outputs": [],
   "source": [
    "from scipy.stats import spearmanr"
   ]
  },
  {
   "cell_type": "code",
   "execution_count": null,
   "id": "0c14e601",
   "metadata": {},
   "outputs": [],
   "source": [
    "data.columns"
   ]
  },
  {
   "cell_type": "code",
   "execution_count": null,
   "id": "5b660a4a",
   "metadata": {},
   "outputs": [],
   "source": [
    "corr = data.drop(['ID', 'Year_Birth'], axis=1).corr(method='spearman')\n",
    "\n",
    "# Getting the Upper Triangle of the co-relation matrix\n",
    "matrix = np.triu(corr)\n",
    "fig, ax = plt.subplots(figsize=(16,16))\n",
    "ax = sns.heatmap(corr, annot=True, cmap='coolwarm', mask=matrix)\n",
    "for t in ax.texts:\n",
    "    if abs(float(t.get_text()))>=0.4:\n",
    "        t.set_text(t.get_text()) #if the value is greater than 0.4 or less than -0.4 then I set the text \n",
    "    else:\n",
    "        t.set_text(\"\") # if not it sets an empty text\n",
    "\n",
    "\n",
    "plt.show()"
   ]
  },
  {
   "cell_type": "code",
   "execution_count": null,
   "id": "2e92b866",
   "metadata": {},
   "outputs": [],
   "source": [
    "data.columns"
   ]
  },
  {
   "cell_type": "code",
   "execution_count": null,
   "id": "91d8b51f",
   "metadata": {},
   "outputs": [],
   "source": [
    "data.Education.unique()"
   ]
  },
  {
   "cell_type": "code",
   "execution_count": null,
   "id": "f081242e",
   "metadata": {},
   "outputs": [],
   "source": [
    "ordinal_vars = ['Education']\n",
    "edu_level_map = {'Basic':1, 'Graduation':2, 'Master':3, '2nd Cycle':4, 'PhD':5}\n",
    "data['Education_level'] = data['Education'].map(edu_level_map, na_action='ignore')\n",
    "data.head()"
   ]
  },
  {
   "cell_type": "code",
   "execution_count": null,
   "id": "ce7794b2",
   "metadata": {},
   "outputs": [],
   "source": [
    "data_temp = data.copy()"
   ]
  },
  {
   "cell_type": "code",
   "execution_count": null,
   "id": "286a00b5",
   "metadata": {},
   "outputs": [],
   "source": [
    "edu_labels = pd.get_dummies(data_temp['Education'], prefix='Edu')\n",
    "marital_labels = pd.get_dummies(data_temp.Marital_Status, prefix='Marital')\n",
    "data_temp = pd.concat([data_temp, edu_labels, marital_labels], axis=1)\n",
    "data_temp.head()"
   ]
  },
  {
   "cell_type": "code",
   "execution_count": null,
   "id": "2c26db05",
   "metadata": {},
   "outputs": [],
   "source": [
    "data_temp.columns"
   ]
  },
  {
   "cell_type": "code",
   "execution_count": null,
   "id": "0ce2d3f0",
   "metadata": {},
   "outputs": [],
   "source": [
    "corr = data_temp.drop(['ID', 'Year_Birth', 'Education_level'], axis=1).corr(method='spearman')\n",
    "\n",
    "# Getting the Upper Triangle of the co-relation matrix\n",
    "matrix = np.triu(corr)\n",
    "fig, ax = plt.subplots(figsize=(16,16))\n",
    "ax = sns.heatmap(corr, annot=True, cmap='coolwarm', mask=matrix)\n",
    "for t in ax.texts:\n",
    "    if abs(float(t.get_text()))>=0.4:\n",
    "        t.set_text(t.get_text()) #if the value is greater than 0.4 or less than -0.4 then I set the text \n",
    "    else:\n",
    "        t.set_text(\"\") # if not it sets an empty text\n",
    "\n",
    "\n",
    "plt.show()"
   ]
  },
  {
   "cell_type": "markdown",
   "id": "653b054f",
   "metadata": {},
   "source": [
    "# Outlier analysis"
   ]
  },
  {
   "cell_type": "code",
   "execution_count": null,
   "id": "f6c21001",
   "metadata": {},
   "outputs": [],
   "source": [
    "orig_data = pd.read_csv('marketing_data.csv')\n",
    "orig_data.rename(columns = {' Income ': 'Income'}, inplace = True)\n",
    "orig_data['Income'] = orig_data['Income'].str.replace('$', '')\n",
    "orig_data['Income'] = orig_data['Income'].str.replace(',', '').astype('float')\n",
    "orig_data.dropna(inplace=True)\n"
   ]
  },
  {
   "cell_type": "code",
   "execution_count": null,
   "id": "a8a5b55f",
   "metadata": {},
   "outputs": [],
   "source": [
    "cols_to_check = [c for c in orig_data.columns if (orig_data[c].dtype != 'object') & (orig_data[c].nunique() > 2) & (c != 'ID')]\n",
    "#cols_to_check.__len__()\n",
    "\n",
    "fig, ax = plt.subplots(4, 4, figsize = (16, 10))\n",
    "ax = ax.flatten()\n",
    "\n",
    "for i, c in enumerate(cols_to_check):\n",
    "    sns.boxplot(x = orig_data[c], ax = ax[i])\n",
    "plt.suptitle('Outlier Analysis using BoxPlots', fontsize = 25)\n",
    "fig.tight_layout()\n",
    "\n",
    "del cols_to_check\n",
    "# gc.collect()"
   ]
  },
  {
   "cell_type": "markdown",
   "id": "7b52984d",
   "metadata": {},
   "source": [
    "# Q1\n",
    "\n",
    "Demographics - Age vs. purchase behaviour\n",
    "Year of joining derived from Dt_Customer\n",
    "Age when joined = Year of joining - Year_birth\n",
    "\n",
    "*Questions:*\n",
    "- a) Do young people purchase more on web or in store?\n",
    "- b) What products do young group people buy more?\n",
    "- c) What products do older people buy more?"
   ]
  },
  {
   "cell_type": "code",
   "execution_count": null,
   "id": "efe061ab",
   "metadata": {},
   "outputs": [],
   "source": [
    "data.describe()"
   ]
  },
  {
   "cell_type": "code",
   "execution_count": null,
   "id": "003046d4",
   "metadata": {},
   "outputs": [],
   "source": [
    "data.head()"
   ]
  },
  {
   "cell_type": "code",
   "execution_count": null,
   "id": "573a1072",
   "metadata": {},
   "outputs": [],
   "source": [
    "data.columns"
   ]
  },
  {
   "cell_type": "code",
   "execution_count": null,
   "id": "2d29ee1d",
   "metadata": {},
   "outputs": [],
   "source": [
    "fig = plt.figure(figsize=(15,10))\n",
    "\n",
    "age_mode_vars = ['ID', 'Age', 'NumDealsPurchases', 'NumWebPurchases', 'NumCatalogPurchases', \n",
    "                    'NumStorePurchases', 'NumWebVisitsMonth', 'MntWines', 'MntFruits',\n",
    "                    'MntMeatProducts', 'MntFishProducts', 'MntSweetProducts', 'MntGoldProds']\n",
    "age_mode_data = data[age_mode_vars]\n",
    "age_mode_corr = age_mode_data.drop('ID', axis=1).corr()\n",
    "\n",
    "matrix = np.triu(age_mode_corr) # upper triangular corelation matrix\n",
    "ax = sns.heatmap(age_mode_corr, annot=True, cmap='coolwarm', mask=matrix)\n",
    "for t in ax.texts:\n",
    "    if abs(float(t.get_text()))>=0.1:\n",
    "        t.set_text(t.get_text()) #if the value is greater than 0.4 or less than -0.4 then make the value visible\n",
    "    else:\n",
    "        t.set_text(\"\") # if not it sets an empty text\n",
    "\n",
    "plt.title(\"All education groups\")\n",
    "plt.show()"
   ]
  },
  {
   "cell_type": "code",
   "execution_count": null,
   "id": "55e542ed",
   "metadata": {},
   "outputs": [],
   "source": [
    "data.Education.unique()"
   ]
  },
  {
   "cell_type": "code",
   "execution_count": null,
   "id": "1c636167",
   "metadata": {},
   "outputs": [],
   "source": [
    "age_mode_vars = ['ID', 'Age', 'NumDealsPurchases', 'NumWebPurchases', 'NumCatalogPurchases', \n",
    "                    'NumStorePurchases', 'NumWebVisitsMonth', 'MntWines', 'MntFruits',\n",
    "                    'MntMeatProducts', 'MntFishProducts', 'MntSweetProducts', 'MntGoldProds']\n",
    "\n",
    "for edu in data.Education.unique():\n",
    "\n",
    "    fig = plt.figure(figsize=(15,10))\n",
    "    age_mode_data = data[data.Education == edu][age_mode_vars]\n",
    "    age_mode_corr = age_mode_data.drop('ID', axis=1).corr(method='spearman')\n",
    "\n",
    "    matrix = np.triu(age_mode_corr) # upper triangular corelation matrix\n",
    "    ax = sns.heatmap(age_mode_corr, annot=True, cmap='coolwarm', mask=matrix)\n",
    "    for t in ax.texts:\n",
    "        if abs(float(t.get_text()))>=0.1:\n",
    "            t.set_text(t.get_text()) #if the value is greater than 0.4 or less than -0.4 then make the value visible\n",
    "        else:\n",
    "            t.set_text(\"\") # if not it sets an empty text\n",
    "\n",
    "    plt.title(f\"Age, Mode & Amount by Education level - {edu}\")\n",
    "    plt.show()"
   ]
  },
  {
   "cell_type": "markdown",
   "id": "c05be013",
   "metadata": {},
   "source": [
    "# Q2\n",
    "\n",
    "Kids and Teens at home Vs. Purchase behaviour\n",
    "\n",
    "*Questions:*\n",
    "- a) What products do people with kids at home purchase more?\n",
    "- b) What products do people with teens at home purchase more?\n",
    "- c) Difference between people with kids/teens at home vs. people without them with respect to purchase behaviour\n"
   ]
  },
  {
   "cell_type": "code",
   "execution_count": null,
   "id": "0e0a903d",
   "metadata": {},
   "outputs": [],
   "source": [
    "data.columns"
   ]
  },
  {
   "cell_type": "code",
   "execution_count": null,
   "id": "9670135b",
   "metadata": {},
   "outputs": [],
   "source": [
    "kids_teen_vars = ['ID', 'Age','Kidhome', 'Teenhome', 'Dependents', 'NumDealsPurchases', 'NumWebPurchases',\n",
    "                    'NumCatalogPurchases', 'NumStorePurchases', 'NumWebVisitsMonth', 'MntWines', 'MntFruits',\n",
    "                    'MntMeatProducts', 'MntFishProducts', 'MntSweetProducts', 'MntGoldProds']\n",
    "\n",
    "vars = ['Kidhome', 'Teenhome', 'Dependents']\n",
    "for var in vars:\n",
    "\n",
    "    fig = plt.figure(figsize=(15,10))\n",
    "    kids_teen_data = data[data[var] > 0][kids_teen_vars]\n",
    "    kids_teen_corr = kids_teen_data.drop('ID', axis=1).corr()\n",
    "\n",
    "    matrix = np.triu(kids_teen_corr) # upper triangular corelation matrix\n",
    "    ax = sns.heatmap(kids_teen_corr, annot=True, cmap='coolwarm', mask=matrix)\n",
    "    for t in ax.texts:\n",
    "        if abs(float(t.get_text()))>=0.1:\n",
    "            t.set_text(t.get_text()) #if the value is greater than 0.4 or less than -0.4 then make the value visible\n",
    "        else:\n",
    "            t.set_text(\"\") # if not it sets an empty text\n",
    "\n",
    "    plt.title(f\"Age, Mode & Amount by Dependent level - {var}\")\n",
    "    plt.show()\n",
    "\n",
    "fig = plt.figure(figsize=(15,10))\n",
    "kids_teen_data = data[data.Dependents == 0][kids_teen_vars]\n",
    "kids_teen_corr = kids_teen_data.drop('ID', axis=1).corr()\n",
    "\n",
    "matrix = np.triu(kids_teen_corr) # upper triangular corelation matrix\n",
    "ax = sns.heatmap(kids_teen_corr, annot=True, cmap='coolwarm', mask=matrix)\n",
    "for t in ax.texts:\n",
    "    if abs(float(t.get_text()))>=0.1:\n",
    "        t.set_text(t.get_text()) #if the value is greater than 0.4 or less than -0.4 then make the value visible\n",
    "    else:\n",
    "        t.set_text(\"\") # if not it sets an empty text\n",
    "\n",
    "plt.title(\"Age, Mode & Amount by dependent level - None\")\n",
    "plt.show()"
   ]
  },
  {
   "cell_type": "markdown",
   "id": "558fa7c6",
   "metadata": {},
   "source": [
    "# Q3\n",
    "\n",
    "Product type vs. Purchase channel\n",
    "Product type - Wine, Fruits, Meat, Sweet, Gold \n",
    "Purchase type - Deals, Web, Catalog, Store\n",
    "\n",
    "*Questions:*\n",
    "\n",
    "- a) Wine is purchased through which channel more?\n",
    "> ...and other similar questions based on the above categories"
   ]
  },
  {
   "cell_type": "markdown",
   "id": "51274d80",
   "metadata": {},
   "source": [
    "### Q3 may not be possible since we dont know which channel the customer used to make a particular purchase"
   ]
  },
  {
   "cell_type": "code",
   "execution_count": null,
   "id": "8263d65a",
   "metadata": {},
   "outputs": [],
   "source": [
    "data.columns"
   ]
  },
  {
   "cell_type": "code",
   "execution_count": null,
   "id": "6965c9b5",
   "metadata": {},
   "outputs": [],
   "source": [
    "items = ['MntWines', 'MntFruits', 'MntMeatProducts',\n",
    "        'MntFishProducts', 'MntSweetProducts', 'MntGoldProds']\n",
    "\n",
    "channels = ['NumDealsPurchases', 'NumWebPurchases', 'NumCatalogPurchases', \n",
    "            'NumStorePurchases', 'NumWebVisitsMonth']\n",
    "\n",
    "campaigns = ['AcceptedCmp1', 'AcceptedCmp2', 'AcceptedCmp3',\n",
    "            'AcceptedCmp4', 'AcceptedCmp5']\n"
   ]
  },
  {
   "cell_type": "markdown",
   "id": "88b1f926",
   "metadata": {},
   "source": [
    "# Q4\n",
    "\n",
    "Combine 2 and 3\n",
    "Identify the default behaviour. i.e, Say for example people without kids purchase wine from stores. Does this behviour change when they have kids. LIke they buy when there are deals or through web channel.\n",
    "\n",
    "Frame and answer questions\n",
    "\n",
    "> Since Q3 is not possible, we cannot answer Q4 either"
   ]
  },
  {
   "cell_type": "markdown",
   "id": "cdac5bb1",
   "metadata": {},
   "source": [
    "# Q5\n",
    "\n",
    "Marital status vs. Purchase behaviour \n",
    "\n",
    "*Question:*\n",
    "\n",
    "- a) Which channel (Deals, Store, Web, etc.) do married people prefer?\n",
    "- b) Which products do single people buy more?"
   ]
  },
  {
   "cell_type": "code",
   "execution_count": null,
   "id": "61aadfbf",
   "metadata": {},
   "outputs": [],
   "source": [
    "data.columns"
   ]
  },
  {
   "cell_type": "code",
   "execution_count": null,
   "id": "a45fbc62",
   "metadata": {},
   "outputs": [],
   "source": [
    "data.New_Marital_Status.unique()"
   ]
  },
  {
   "cell_type": "code",
   "execution_count": null,
   "id": "5fed1772",
   "metadata": {},
   "outputs": [],
   "source": [
    "dd = data[data.New_Marital_Status == 'Divorced'][channels].sum()\n",
    "dd"
   ]
  },
  {
   "cell_type": "code",
   "execution_count": null,
   "id": "9bc2ff61",
   "metadata": {},
   "outputs": [],
   "source": [
    "for status in data.New_Marital_Status.unique():    \n",
    "    fig = plt.figure(figsize=(10,8))\n",
    "\n",
    "    temp = data[data.New_Marital_Status == status]\n",
    "    y = temp[channels].sum()\n",
    "    # plt.plot(y = data[data.New_Marital_Status == 'Single'][channels])\n",
    "    sns.barplot(x=channels, y=y)\n",
    "    plt.ylim(0, 6000)\n",
    "    plt.title(status)\n",
    "    plt.show()"
   ]
  },
  {
   "cell_type": "code",
   "execution_count": null,
   "id": "3e138b11",
   "metadata": {},
   "outputs": [],
   "source": [
    "for status in data.New_Marital_Status.unique():    \n",
    "    fig = plt.figure(figsize=(10,8))\n",
    "\n",
    "    temp = data[data.New_Marital_Status == status]\n",
    "    y = temp[items].sum()\n",
    "    # plt.plot(y = data[data.New_Marital_Status == 'Single'][channels])\n",
    "    sns.barplot(x=items, y=y)\n",
    "    plt.ylim(0, 350000)\n",
    "    plt.title(status)\n",
    "    plt.show()"
   ]
  },
  {
   "cell_type": "code",
   "execution_count": null,
   "id": "c85a642f",
   "metadata": {},
   "outputs": [],
   "source": [
    "# plt.figure(figsize = (20, 15))\n",
    "# sns.boxplot(data = data, x = channels, y=data[data[channels]], hue='New_Marital_Status')\n",
    "#     # plt.ylim(5, 80)\n",
    "#     # plt.title('Country Vs Customer Age Per Education')"
   ]
  },
  {
   "cell_type": "code",
   "execution_count": null,
   "id": "83caf246",
   "metadata": {},
   "outputs": [],
   "source": [
    "# ax = (\n",
    "#     data.set_index('New_Marital_Status', append=True)  # set E as part of the index\n",
    "#       .stack()                      # pull A - D into rows \n",
    "#       .to_frame()                   # convert to a dataframe\n",
    "#       .reset_index()                # make the index into reg. columns\n",
    "#     #   .rename(columns={'level_2': 'quantity', 0: 'value'})  # rename columns\n",
    "#     #   .drop('level_0', axis='columns')   # drop junk columns\n",
    "#       .pipe((sns.boxplot, 'data'), x='quantity', y='value', hue='E', hue_order=[1, 2])  \n",
    "# )\n",
    "# sns.despine(trim=True)"
   ]
  },
  {
   "cell_type": "code",
   "execution_count": null,
   "id": "b27c11df",
   "metadata": {},
   "outputs": [],
   "source": []
  },
  {
   "cell_type": "markdown",
   "id": "72e381c2",
   "metadata": {},
   "source": [
    "# Q6\n",
    "\n",
    "Education vs. Purchase behaviour\n",
    "\n",
    "*Question:*\n",
    "- a) Which channel (Deals, Store, Web, etc.) do people with basic education prefer?\n",
    "- b) Which products do people with Masters degree buy more?"
   ]
  },
  {
   "cell_type": "code",
   "execution_count": null,
   "id": "539a4734",
   "metadata": {},
   "outputs": [],
   "source": [
    "for level in data.New_Education.unique():    \n",
    "    fig = plt.figure(figsize=(10,8))\n",
    "\n",
    "    temp = data[data.New_Education == level]\n",
    "    y = temp[channels].sum()\n",
    "    # plt.plot(y = data[data.New_Education == 'Single'][channels])\n",
    "    sns.barplot(x=channels, y=y)\n",
    "    plt.ylim(0, 7000)\n",
    "    plt.title(level)\n",
    "    plt.show()"
   ]
  },
  {
   "cell_type": "code",
   "execution_count": null,
   "id": "d6f78771",
   "metadata": {},
   "outputs": [],
   "source": [
    "for level in data.New_Education.unique():    \n",
    "    fig = plt.figure(figsize=(10,8))\n",
    "\n",
    "    temp = data[data.New_Education == level]\n",
    "    y = temp[items].sum()\n",
    "    # plt.plot(y = data[data.New_Education == 'Single'][channels])\n",
    "    sns.barplot(x=items, y=y)\n",
    "    plt.ylim(0, 350000)\n",
    "    plt.title(level)\n",
    "    plt.show()"
   ]
  },
  {
   "cell_type": "code",
   "execution_count": null,
   "id": "35cbc783",
   "metadata": {},
   "outputs": [],
   "source": []
  },
  {
   "cell_type": "markdown",
   "id": "26b22608",
   "metadata": {},
   "source": [
    "# Q7\n",
    "\n",
    "Income vs. Country\n",
    "\n",
    "*Question:*\n",
    "- a) Which country do high income people come from?\n",
    "- b) Which products do low income people buy more?"
   ]
  },
  {
   "cell_type": "code",
   "execution_count": null,
   "id": "6148a981",
   "metadata": {},
   "outputs": [],
   "source": [
    "data.columns"
   ]
  },
  {
   "cell_type": "code",
   "execution_count": null,
   "id": "25a0e92f",
   "metadata": {},
   "outputs": [],
   "source": [
    "# for level in data.Income.unique():    \n",
    "#     fig = plt.figure(figsize=(10,8))\n",
    "\n",
    "#     temp = data[data.New_Education == level]\n",
    "#     y = temp[channels].sum()\n",
    "#     # plt.plot(y = data[data.New_Education == 'Single'][channels])\n",
    "#     sns.barplot(x=channels, y=y)\n",
    "#     plt.ylim(0, 7000)\n",
    "#     plt.title(level)\n",
    "#     plt.show()\n",
    "\n",
    "plt.figure(figsize = (20, 15))\n",
    "sns.boxplot(data = data, x = 'Country', y = 'Income', hue = 'New_Education')\n",
    "# plt.ylim(5, 80)\n",
    "plt.title('Country Vs Income Age Per Education');"
   ]
  },
  {
   "cell_type": "markdown",
   "id": "229fab2a",
   "metadata": {},
   "source": [
    "# StorePurchases vs. dependents"
   ]
  },
  {
   "cell_type": "code",
   "execution_count": null,
   "id": "1436d5e4",
   "metadata": {},
   "outputs": [],
   "source": [
    "data.columns"
   ]
  },
  {
   "cell_type": "code",
   "execution_count": null,
   "id": "95f8611a",
   "metadata": {},
   "outputs": [],
   "source": [
    "sns.boxplot(data = data, y = 'NumStorePurchases', x = 'Dependents');"
   ]
  },
  {
   "cell_type": "code",
   "execution_count": null,
   "id": "90b4c7ab",
   "metadata": {},
   "outputs": [],
   "source": []
  },
  {
   "cell_type": "markdown",
   "id": "ceb4685d",
   "metadata": {},
   "source": [
    "# CLUSTERING"
   ]
  },
  {
   "cell_type": "code",
   "execution_count": null,
   "id": "84c79bb3",
   "metadata": {},
   "outputs": [],
   "source": [
    "from sklearn.cluster import KMeans\n",
    "from sklearn.preprocessing import StandardScaler, normalize\n",
    "from sklearn.metrics import silhouette_score"
   ]
  },
  {
   "cell_type": "code",
   "execution_count": null,
   "id": "f641453f",
   "metadata": {},
   "outputs": [],
   "source": [
    "data.columns"
   ]
  },
  {
   "cell_type": "code",
   "execution_count": null,
   "id": "cc391032",
   "metadata": {},
   "outputs": [],
   "source": [
    "cluster_cols = ['Age', 'NumDealsPurchases', 'NumWebPurchases',\n",
    "       'NumCatalogPurchases', 'NumStorePurchases', 'NumWebVisitsMonth',\n",
    "       'MntWines', 'MntFruits',\n",
    "       'MntMeatProducts', 'MntFishProducts', 'MntSweetProducts',\n",
    "       'MntGoldProds', 'Recency', 'Income', 'Dependents', 'TotalProducts']\n",
    "cluster_data = normalize(data.loc[:, cluster_cols])"
   ]
  },
  {
   "cell_type": "code",
   "execution_count": null,
   "id": "1a088ab7",
   "metadata": {},
   "outputs": [],
   "source": [
    "cluster_range = [2,3,4,5,6,7,8,9,10,11,12,13,14]\n",
    "inertias = []\n",
    "\n",
    "for c in cluster_range:\n",
    "    kmeans = KMeans(n_clusters=c).fit(cluster_data)\n",
    "    inertias.append(kmeans.inertia_)\n",
    "\n",
    "plt.figure()\n",
    "plt.plot(cluster_range, inertias, marker='o')\n",
    "plt.show()"
   ]
  },
  {
   "cell_type": "markdown",
   "id": "9b16cb44",
   "metadata": {},
   "source": [
    "We can consider to use either 3 or even 4 clusters. Maybe even upto 6."
   ]
  },
  {
   "cell_type": "code",
   "execution_count": null,
   "id": "e178976b",
   "metadata": {},
   "outputs": [],
   "source": [
    "# calculating silhouette scores\n",
    "from sklearn.metrics import silhouette_samples, silhouette_score\n",
    "\n",
    "results = []\n",
    "for c in cluster_range:\n",
    "    clusterer = KMeans(n_clusters=c)\n",
    "    cluster_labels = clusterer.fit_predict(cluster_data)\n",
    "    silhouetter_avg = silhouette_score(cluster_data, cluster_labels)\n",
    "    results.append([c, silhouetter_avg])\n",
    "\n",
    "result = pd.DataFrame(results, columns=['n_clusters', 'silhouette_score'])\n",
    "pivot_km = pd.pivot_table(result, index='n_clusters', values='silhouette_score')\n",
    "\n",
    "plt.figure()\n",
    "sns.heatmap(pivot_km, annot=True, fmt='.3f', cmap=sns.cm._rocket_lut)\n",
    "plt.tight_layout()"
   ]
  },
  {
   "cell_type": "markdown",
   "id": "4d1f5067",
   "metadata": {},
   "source": [
    "We can see that the silhouette score does not change greatly from 4 to 5 clusters. Thus, we minimilastically choose **4 clusters.**"
   ]
  },
  {
   "cell_type": "markdown",
   "id": "adc77b84",
   "metadata": {},
   "source": []
  }
 ],
 "metadata": {
  "kernelspec": {
   "display_name": "Python 3 (ipykernel)",
   "language": "python",
   "name": "python3"
  },
  "language_info": {
   "codemirror_mode": {
    "name": "ipython",
    "version": 3
   },
   "file_extension": ".py",
   "mimetype": "text/x-python",
   "name": "python",
   "nbconvert_exporter": "python",
   "pygments_lexer": "ipython3",
   "version": "3.9.7"
  },
  "papermill": {
   "default_parameters": {},
   "duration": 384.342183,
   "end_time": "2022-02-25T22:20:44.704014",
   "environment_variables": {},
   "exception": null,
   "input_path": "__notebook__.ipynb",
   "output_path": "__notebook__.ipynb",
   "parameters": {},
   "start_time": "2022-02-25T22:14:20.361831",
   "version": "2.3.3"
  }
 },
 "nbformat": 4,
 "nbformat_minor": 5
}
